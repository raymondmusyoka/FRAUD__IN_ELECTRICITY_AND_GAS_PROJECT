{
 "cells": [
  {
   "cell_type": "markdown",
   "id": "a00ceb0e",
   "metadata": {},
   "source": [
    "##  Description of the challenge:\n",
    "\n",
    "The Tunisian Company of Electricity and Gas (STEG) is a public and a non-administrative company, it is responsible for delivering electricity and gas across Tunisia. The company suffered tremendous losses in the order of 200 million Tunisian Dinars due to fraudulent manipulations of meters by consumers.\n",
    "\n",
    "\n",
    "##  Problem Statement:\n",
    "\n",
    "\n",
    "**Using the client’s billing history, the aim of the challenge is to detect and recognize clients involved in fraudulent activities.**\n",
    "\n",
    "##### The solution will enhance the company’s revenues and reduce the losses caused by such fraudulent activities.\n",
    "\n",
    "About STEG (https://www.steg.com.tn/en/institutionnel/mission.html)\n",
    "\n",
    "\n",
    "### Evaluation\n",
    "\n",
    "\n",
    "The metric used for this challenge is Area Under the Curve (AUC)."
   ]
  },
  {
   "cell_type": "markdown",
   "id": "1a207bbc-9dd3-4575-8504-b1167f193ccf",
   "metadata": {},
   "source": [
    "<h1 style=\"font-size:4.5rem;color:blue;\">EDA</h1>"
   ]
  },
  {
   "cell_type": "markdown",
   "id": "db316e2b",
   "metadata": {},
   "source": [
    "## Libraries"
   ]
  },
  {
   "cell_type": "code",
   "execution_count": 1,
   "id": "f56bcf28",
   "metadata": {},
   "outputs": [],
   "source": [
    "import pandas as pd                             \n",
    "import numpy as np                              \n",
    "import seaborn as sns                                             \n",
    "import matplotlib.pyplot as plt                 \n",
    "import itertools                                \n",
    "import datetime as dt                          \n",
    "from scipy import stats                         \n",
    "\n",
    "\n",
    "from IPython.display import display             \n",
    "import os                                       \n",
    "import gc  \n",
    "\n",
    "\n",
    "\n",
    "import warnings                                  \n",
    "warnings.filterwarnings('ignore') "
   ]
  },
  {
   "cell_type": "markdown",
   "id": "05548cd0",
   "metadata": {},
   "source": [
    "## Datasets"
   ]
  },
  {
   "cell_type": "code",
   "execution_count": 2,
   "id": "33e3ad66",
   "metadata": {},
   "outputs": [],
   "source": [
    "# Train dataset\n",
    "client_train = pd.read_csv('client_train.csv',  parse_dates=['creation_date'])\n",
    "invoice_train = pd.read_csv('invoice_train.csv' , parse_dates=['invoice_date'])\n",
    "\n",
    "#Test dataset\n",
    "client_test = pd.read_csv('client_test.csv', parse_dates=['creation_date'])\n",
    "invoice_test = pd.read_csv('invoice_test.csv', parse_dates=['invoice_date'])\n",
    "\n",
    "# Submission file\n",
    "sample_submission = pd.read_csv('SampleSubmission.csv')"
   ]
  },
  {
   "cell_type": "code",
   "execution_count": 3,
   "id": "760bd8ac",
   "metadata": {},
   "outputs": [
    {
     "name": "stdout",
     "output_type": "stream",
     "text": [
      "Missing Values in client_train is , 0\n",
      "Missing Values in invoice_train is , 0\n",
      "Missing Values in client_test is , 0\n",
      "Missing Values in invoice_test is , 0\n"
     ]
    }
   ],
   "source": [
    "print(f\"Missing Values in client_train is , {client_train.isna().any().sum()}\")\n",
    "print(f\"Missing Values in invoice_train is , {invoice_train.isna().any().sum()}\")\n",
    "print(f\"Missing Values in client_test is , {client_test.isna().any().sum()}\")\n",
    "print(f\"Missing Values in invoice_test is , {invoice_test.isna().any().sum()}\")"
   ]
  },
  {
   "cell_type": "code",
   "execution_count": 4,
   "id": "212c937a",
   "metadata": {},
   "outputs": [
    {
     "data": {
      "text/plain": [
       "'CLIENT TRAIN DATASET'"
      ]
     },
     "metadata": {},
     "output_type": "display_data"
    },
    {
     "data": {
      "text/plain": [
       "(135493, 6)"
      ]
     },
     "metadata": {},
     "output_type": "display_data"
    },
    {
     "data": {
      "text/html": [
       "<div>\n",
       "<style scoped>\n",
       "    .dataframe tbody tr th:only-of-type {\n",
       "        vertical-align: middle;\n",
       "    }\n",
       "\n",
       "    .dataframe tbody tr th {\n",
       "        vertical-align: top;\n",
       "    }\n",
       "\n",
       "    .dataframe thead th {\n",
       "        text-align: right;\n",
       "    }\n",
       "</style>\n",
       "<table border=\"1\" class=\"dataframe\">\n",
       "  <thead>\n",
       "    <tr style=\"text-align: right;\">\n",
       "      <th></th>\n",
       "      <th>disrict</th>\n",
       "      <th>client_id</th>\n",
       "      <th>client_catg</th>\n",
       "      <th>region</th>\n",
       "      <th>creation_date</th>\n",
       "      <th>target</th>\n",
       "    </tr>\n",
       "  </thead>\n",
       "  <tbody>\n",
       "    <tr>\n",
       "      <th>0</th>\n",
       "      <td>60</td>\n",
       "      <td>train_Client_0</td>\n",
       "      <td>11</td>\n",
       "      <td>101</td>\n",
       "      <td>1994-12-31</td>\n",
       "      <td>0.0</td>\n",
       "    </tr>\n",
       "    <tr>\n",
       "      <th>1</th>\n",
       "      <td>69</td>\n",
       "      <td>train_Client_1</td>\n",
       "      <td>11</td>\n",
       "      <td>107</td>\n",
       "      <td>2002-05-29</td>\n",
       "      <td>0.0</td>\n",
       "    </tr>\n",
       "    <tr>\n",
       "      <th>2</th>\n",
       "      <td>62</td>\n",
       "      <td>train_Client_10</td>\n",
       "      <td>11</td>\n",
       "      <td>301</td>\n",
       "      <td>1986-03-13</td>\n",
       "      <td>0.0</td>\n",
       "    </tr>\n",
       "  </tbody>\n",
       "</table>\n",
       "</div>"
      ],
      "text/plain": [
       "   disrict        client_id  client_catg  region creation_date  target\n",
       "0       60   train_Client_0           11     101    1994-12-31     0.0\n",
       "1       69   train_Client_1           11     107    2002-05-29     0.0\n",
       "2       62  train_Client_10           11     301    1986-03-13     0.0"
      ]
     },
     "metadata": {},
     "output_type": "display_data"
    },
    {
     "data": {
      "text/plain": [
       "' '"
      ]
     },
     "metadata": {},
     "output_type": "display_data"
    },
    {
     "data": {
      "text/plain": [
       "' '"
      ]
     },
     "metadata": {},
     "output_type": "display_data"
    },
    {
     "data": {
      "text/plain": [
       "'INVOICE TRAIN DATASET'"
      ]
     },
     "metadata": {},
     "output_type": "display_data"
    },
    {
     "data": {
      "text/plain": [
       "(4476749, 16)"
      ]
     },
     "metadata": {},
     "output_type": "display_data"
    },
    {
     "data": {
      "text/html": [
       "<div>\n",
       "<style scoped>\n",
       "    .dataframe tbody tr th:only-of-type {\n",
       "        vertical-align: middle;\n",
       "    }\n",
       "\n",
       "    .dataframe tbody tr th {\n",
       "        vertical-align: top;\n",
       "    }\n",
       "\n",
       "    .dataframe thead th {\n",
       "        text-align: right;\n",
       "    }\n",
       "</style>\n",
       "<table border=\"1\" class=\"dataframe\">\n",
       "  <thead>\n",
       "    <tr style=\"text-align: right;\">\n",
       "      <th></th>\n",
       "      <th>client_id</th>\n",
       "      <th>invoice_date</th>\n",
       "      <th>tarif_type</th>\n",
       "      <th>counter_number</th>\n",
       "      <th>counter_statue</th>\n",
       "      <th>counter_code</th>\n",
       "      <th>reading_remarque</th>\n",
       "      <th>counter_coefficient</th>\n",
       "      <th>consommation_level_1</th>\n",
       "      <th>consommation_level_2</th>\n",
       "      <th>consommation_level_3</th>\n",
       "      <th>consommation_level_4</th>\n",
       "      <th>old_index</th>\n",
       "      <th>new_index</th>\n",
       "      <th>months_number</th>\n",
       "      <th>counter_type</th>\n",
       "    </tr>\n",
       "  </thead>\n",
       "  <tbody>\n",
       "    <tr>\n",
       "      <th>0</th>\n",
       "      <td>train_Client_0</td>\n",
       "      <td>2014-03-24</td>\n",
       "      <td>11</td>\n",
       "      <td>1335667</td>\n",
       "      <td>0</td>\n",
       "      <td>203</td>\n",
       "      <td>8</td>\n",
       "      <td>1</td>\n",
       "      <td>82</td>\n",
       "      <td>0</td>\n",
       "      <td>0</td>\n",
       "      <td>0</td>\n",
       "      <td>14302</td>\n",
       "      <td>14384</td>\n",
       "      <td>4</td>\n",
       "      <td>ELEC</td>\n",
       "    </tr>\n",
       "    <tr>\n",
       "      <th>1</th>\n",
       "      <td>train_Client_0</td>\n",
       "      <td>2013-03-29</td>\n",
       "      <td>11</td>\n",
       "      <td>1335667</td>\n",
       "      <td>0</td>\n",
       "      <td>203</td>\n",
       "      <td>6</td>\n",
       "      <td>1</td>\n",
       "      <td>1200</td>\n",
       "      <td>184</td>\n",
       "      <td>0</td>\n",
       "      <td>0</td>\n",
       "      <td>12294</td>\n",
       "      <td>13678</td>\n",
       "      <td>4</td>\n",
       "      <td>ELEC</td>\n",
       "    </tr>\n",
       "    <tr>\n",
       "      <th>2</th>\n",
       "      <td>train_Client_0</td>\n",
       "      <td>2015-03-23</td>\n",
       "      <td>11</td>\n",
       "      <td>1335667</td>\n",
       "      <td>0</td>\n",
       "      <td>203</td>\n",
       "      <td>8</td>\n",
       "      <td>1</td>\n",
       "      <td>123</td>\n",
       "      <td>0</td>\n",
       "      <td>0</td>\n",
       "      <td>0</td>\n",
       "      <td>14624</td>\n",
       "      <td>14747</td>\n",
       "      <td>4</td>\n",
       "      <td>ELEC</td>\n",
       "    </tr>\n",
       "  </tbody>\n",
       "</table>\n",
       "</div>"
      ],
      "text/plain": [
       "        client_id invoice_date  tarif_type  counter_number counter_statue  \\\n",
       "0  train_Client_0   2014-03-24          11         1335667              0   \n",
       "1  train_Client_0   2013-03-29          11         1335667              0   \n",
       "2  train_Client_0   2015-03-23          11         1335667              0   \n",
       "\n",
       "   counter_code  reading_remarque  counter_coefficient  consommation_level_1  \\\n",
       "0           203                 8                    1                    82   \n",
       "1           203                 6                    1                  1200   \n",
       "2           203                 8                    1                   123   \n",
       "\n",
       "   consommation_level_2  consommation_level_3  consommation_level_4  \\\n",
       "0                     0                     0                     0   \n",
       "1                   184                     0                     0   \n",
       "2                     0                     0                     0   \n",
       "\n",
       "   old_index  new_index  months_number counter_type  \n",
       "0      14302      14384              4         ELEC  \n",
       "1      12294      13678              4         ELEC  \n",
       "2      14624      14747              4         ELEC  "
      ]
     },
     "metadata": {},
     "output_type": "display_data"
    },
    {
     "data": {
      "text/plain": [
       "' '"
      ]
     },
     "metadata": {},
     "output_type": "display_data"
    },
    {
     "data": {
      "text/plain": [
       "' '"
      ]
     },
     "metadata": {},
     "output_type": "display_data"
    },
    {
     "data": {
      "text/plain": [
       "'CLIENT TEST DATASET'"
      ]
     },
     "metadata": {},
     "output_type": "display_data"
    },
    {
     "data": {
      "text/plain": [
       "(58069, 5)"
      ]
     },
     "metadata": {},
     "output_type": "display_data"
    },
    {
     "data": {
      "text/html": [
       "<div>\n",
       "<style scoped>\n",
       "    .dataframe tbody tr th:only-of-type {\n",
       "        vertical-align: middle;\n",
       "    }\n",
       "\n",
       "    .dataframe tbody tr th {\n",
       "        vertical-align: top;\n",
       "    }\n",
       "\n",
       "    .dataframe thead th {\n",
       "        text-align: right;\n",
       "    }\n",
       "</style>\n",
       "<table border=\"1\" class=\"dataframe\">\n",
       "  <thead>\n",
       "    <tr style=\"text-align: right;\">\n",
       "      <th></th>\n",
       "      <th>disrict</th>\n",
       "      <th>client_id</th>\n",
       "      <th>client_catg</th>\n",
       "      <th>region</th>\n",
       "      <th>creation_date</th>\n",
       "    </tr>\n",
       "  </thead>\n",
       "  <tbody>\n",
       "    <tr>\n",
       "      <th>0</th>\n",
       "      <td>62</td>\n",
       "      <td>test_Client_0</td>\n",
       "      <td>11</td>\n",
       "      <td>307</td>\n",
       "      <td>2002-05-28</td>\n",
       "    </tr>\n",
       "    <tr>\n",
       "      <th>1</th>\n",
       "      <td>69</td>\n",
       "      <td>test_Client_1</td>\n",
       "      <td>11</td>\n",
       "      <td>103</td>\n",
       "      <td>2009-06-08</td>\n",
       "    </tr>\n",
       "    <tr>\n",
       "      <th>2</th>\n",
       "      <td>62</td>\n",
       "      <td>test_Client_10</td>\n",
       "      <td>11</td>\n",
       "      <td>310</td>\n",
       "      <td>2004-07-04</td>\n",
       "    </tr>\n",
       "  </tbody>\n",
       "</table>\n",
       "</div>"
      ],
      "text/plain": [
       "   disrict       client_id  client_catg  region creation_date\n",
       "0       62   test_Client_0           11     307    2002-05-28\n",
       "1       69   test_Client_1           11     103    2009-06-08\n",
       "2       62  test_Client_10           11     310    2004-07-04"
      ]
     },
     "metadata": {},
     "output_type": "display_data"
    },
    {
     "data": {
      "text/plain": [
       "' '"
      ]
     },
     "metadata": {},
     "output_type": "display_data"
    },
    {
     "data": {
      "text/plain": [
       "' '"
      ]
     },
     "metadata": {},
     "output_type": "display_data"
    },
    {
     "data": {
      "text/plain": [
       "'INVOICE TEST DATASET'"
      ]
     },
     "metadata": {},
     "output_type": "display_data"
    },
    {
     "data": {
      "text/plain": [
       "(1939730, 16)"
      ]
     },
     "metadata": {},
     "output_type": "display_data"
    },
    {
     "data": {
      "text/html": [
       "<div>\n",
       "<style scoped>\n",
       "    .dataframe tbody tr th:only-of-type {\n",
       "        vertical-align: middle;\n",
       "    }\n",
       "\n",
       "    .dataframe tbody tr th {\n",
       "        vertical-align: top;\n",
       "    }\n",
       "\n",
       "    .dataframe thead th {\n",
       "        text-align: right;\n",
       "    }\n",
       "</style>\n",
       "<table border=\"1\" class=\"dataframe\">\n",
       "  <thead>\n",
       "    <tr style=\"text-align: right;\">\n",
       "      <th></th>\n",
       "      <th>client_id</th>\n",
       "      <th>invoice_date</th>\n",
       "      <th>tarif_type</th>\n",
       "      <th>counter_number</th>\n",
       "      <th>counter_statue</th>\n",
       "      <th>counter_code</th>\n",
       "      <th>reading_remarque</th>\n",
       "      <th>counter_coefficient</th>\n",
       "      <th>consommation_level_1</th>\n",
       "      <th>consommation_level_2</th>\n",
       "      <th>consommation_level_3</th>\n",
       "      <th>consommation_level_4</th>\n",
       "      <th>old_index</th>\n",
       "      <th>new_index</th>\n",
       "      <th>months_number</th>\n",
       "      <th>counter_type</th>\n",
       "    </tr>\n",
       "  </thead>\n",
       "  <tbody>\n",
       "    <tr>\n",
       "      <th>0</th>\n",
       "      <td>test_Client_0</td>\n",
       "      <td>2018-03-16</td>\n",
       "      <td>11</td>\n",
       "      <td>651208</td>\n",
       "      <td>0</td>\n",
       "      <td>203</td>\n",
       "      <td>8</td>\n",
       "      <td>1</td>\n",
       "      <td>755</td>\n",
       "      <td>0</td>\n",
       "      <td>0</td>\n",
       "      <td>0</td>\n",
       "      <td>19145</td>\n",
       "      <td>19900</td>\n",
       "      <td>8</td>\n",
       "      <td>ELEC</td>\n",
       "    </tr>\n",
       "    <tr>\n",
       "      <th>1</th>\n",
       "      <td>test_Client_0</td>\n",
       "      <td>2014-03-21</td>\n",
       "      <td>11</td>\n",
       "      <td>651208</td>\n",
       "      <td>0</td>\n",
       "      <td>203</td>\n",
       "      <td>8</td>\n",
       "      <td>1</td>\n",
       "      <td>1067</td>\n",
       "      <td>0</td>\n",
       "      <td>0</td>\n",
       "      <td>0</td>\n",
       "      <td>13725</td>\n",
       "      <td>14792</td>\n",
       "      <td>8</td>\n",
       "      <td>ELEC</td>\n",
       "    </tr>\n",
       "    <tr>\n",
       "      <th>2</th>\n",
       "      <td>test_Client_0</td>\n",
       "      <td>2014-07-17</td>\n",
       "      <td>11</td>\n",
       "      <td>651208</td>\n",
       "      <td>0</td>\n",
       "      <td>203</td>\n",
       "      <td>8</td>\n",
       "      <td>1</td>\n",
       "      <td>0</td>\n",
       "      <td>0</td>\n",
       "      <td>0</td>\n",
       "      <td>0</td>\n",
       "      <td>14792</td>\n",
       "      <td>14792</td>\n",
       "      <td>4</td>\n",
       "      <td>ELEC</td>\n",
       "    </tr>\n",
       "  </tbody>\n",
       "</table>\n",
       "</div>"
      ],
      "text/plain": [
       "       client_id invoice_date  tarif_type  counter_number  counter_statue  \\\n",
       "0  test_Client_0   2018-03-16          11          651208               0   \n",
       "1  test_Client_0   2014-03-21          11          651208               0   \n",
       "2  test_Client_0   2014-07-17          11          651208               0   \n",
       "\n",
       "   counter_code  reading_remarque  counter_coefficient  consommation_level_1  \\\n",
       "0           203                 8                    1                   755   \n",
       "1           203                 8                    1                  1067   \n",
       "2           203                 8                    1                     0   \n",
       "\n",
       "   consommation_level_2  consommation_level_3  consommation_level_4  \\\n",
       "0                     0                     0                     0   \n",
       "1                     0                     0                     0   \n",
       "2                     0                     0                     0   \n",
       "\n",
       "   old_index  new_index  months_number counter_type  \n",
       "0      19145      19900              8         ELEC  \n",
       "1      13725      14792              8         ELEC  \n",
       "2      14792      14792              4         ELEC  "
      ]
     },
     "metadata": {},
     "output_type": "display_data"
    },
    {
     "data": {
      "text/plain": [
       "' '"
      ]
     },
     "metadata": {},
     "output_type": "display_data"
    },
    {
     "data": {
      "text/plain": [
       "' '"
      ]
     },
     "metadata": {},
     "output_type": "display_data"
    },
    {
     "data": {
      "text/plain": [
       "'SAMPLE SUBMISSION DATASET'"
      ]
     },
     "metadata": {},
     "output_type": "display_data"
    },
    {
     "data": {
      "text/plain": [
       "(58069, 2)"
      ]
     },
     "metadata": {},
     "output_type": "display_data"
    },
    {
     "data": {
      "text/html": [
       "<div>\n",
       "<style scoped>\n",
       "    .dataframe tbody tr th:only-of-type {\n",
       "        vertical-align: middle;\n",
       "    }\n",
       "\n",
       "    .dataframe tbody tr th {\n",
       "        vertical-align: top;\n",
       "    }\n",
       "\n",
       "    .dataframe thead th {\n",
       "        text-align: right;\n",
       "    }\n",
       "</style>\n",
       "<table border=\"1\" class=\"dataframe\">\n",
       "  <thead>\n",
       "    <tr style=\"text-align: right;\">\n",
       "      <th></th>\n",
       "      <th>client_id</th>\n",
       "      <th>target</th>\n",
       "    </tr>\n",
       "  </thead>\n",
       "  <tbody>\n",
       "    <tr>\n",
       "      <th>0</th>\n",
       "      <td>test_Client_0</td>\n",
       "      <td>0.957281</td>\n",
       "    </tr>\n",
       "    <tr>\n",
       "      <th>1</th>\n",
       "      <td>test_Client_1</td>\n",
       "      <td>0.996425</td>\n",
       "    </tr>\n",
       "    <tr>\n",
       "      <th>2</th>\n",
       "      <td>test_Client_10</td>\n",
       "      <td>0.612359</td>\n",
       "    </tr>\n",
       "  </tbody>\n",
       "</table>\n",
       "</div>"
      ],
      "text/plain": [
       "        client_id    target\n",
       "0   test_Client_0  0.957281\n",
       "1   test_Client_1  0.996425\n",
       "2  test_Client_10  0.612359"
      ]
     },
     "metadata": {},
     "output_type": "display_data"
    }
   ],
   "source": [
    "display(\"CLIENT TRAIN DATASET\")\n",
    "display(client_train.shape)\n",
    "display(client_train.head(3))\n",
    "display(\" \")\n",
    "display(\" \")\n",
    "display(\"INVOICE TRAIN DATASET\")\n",
    "display(invoice_train.shape)\n",
    "display(invoice_train.head(3))\n",
    "display(\" \")\n",
    "display(\" \")\n",
    "display(\"CLIENT TEST DATASET\")\n",
    "display(client_test.shape)\n",
    "display(client_test.head(3))\n",
    "display(\" \")\n",
    "display(\" \")\n",
    "display(\"INVOICE TEST DATASET\")\n",
    "display(invoice_test.shape)\n",
    "display(invoice_test.head(3))\n",
    "display(\" \")\n",
    "display(\" \")\n",
    "display(\"SAMPLE SUBMISSION DATASET\")\n",
    "display(sample_submission.shape)\n",
    "display(sample_submission.head(3))"
   ]
  },
  {
   "cell_type": "code",
   "execution_count": 5,
   "id": "38cd0c2d-b5f8-4bac-be3b-75573c622f24",
   "metadata": {},
   "outputs": [],
   "source": [
    "# Getting info about the datasets"
   ]
  },
  {
   "cell_type": "code",
   "execution_count": 6,
   "id": "7d560491-1303-475c-a609-6bcc05860262",
   "metadata": {
    "scrolled": false
   },
   "outputs": [
    {
     "data": {
      "text/plain": [
       "'CLIENT TRAIN DATASET'"
      ]
     },
     "metadata": {},
     "output_type": "display_data"
    },
    {
     "name": "stdout",
     "output_type": "stream",
     "text": [
      "<class 'pandas.core.frame.DataFrame'>\n",
      "RangeIndex: 135493 entries, 0 to 135492\n",
      "Data columns (total 6 columns):\n",
      " #   Column         Non-Null Count   Dtype         \n",
      "---  ------         --------------   -----         \n",
      " 0   disrict        135493 non-null  int64         \n",
      " 1   client_id      135493 non-null  object        \n",
      " 2   client_catg    135493 non-null  int64         \n",
      " 3   region         135493 non-null  int64         \n",
      " 4   creation_date  135493 non-null  datetime64[ns]\n",
      " 5   target         135493 non-null  float64       \n",
      "dtypes: datetime64[ns](1), float64(1), int64(3), object(1)\n",
      "memory usage: 6.2+ MB\n"
     ]
    },
    {
     "data": {
      "text/plain": [
       "None"
      ]
     },
     "metadata": {},
     "output_type": "display_data"
    },
    {
     "data": {
      "text/html": [
       "<div>\n",
       "<style scoped>\n",
       "    .dataframe tbody tr th:only-of-type {\n",
       "        vertical-align: middle;\n",
       "    }\n",
       "\n",
       "    .dataframe tbody tr th {\n",
       "        vertical-align: top;\n",
       "    }\n",
       "\n",
       "    .dataframe thead th {\n",
       "        text-align: right;\n",
       "    }\n",
       "</style>\n",
       "<table border=\"1\" class=\"dataframe\">\n",
       "  <thead>\n",
       "    <tr style=\"text-align: right;\">\n",
       "      <th></th>\n",
       "      <th>disrict</th>\n",
       "      <th>client_catg</th>\n",
       "      <th>region</th>\n",
       "      <th>target</th>\n",
       "    </tr>\n",
       "  </thead>\n",
       "  <tbody>\n",
       "    <tr>\n",
       "      <th>count</th>\n",
       "      <td>135493.000000</td>\n",
       "      <td>135493.000000</td>\n",
       "      <td>135493.000000</td>\n",
       "      <td>135493.000000</td>\n",
       "    </tr>\n",
       "    <tr>\n",
       "      <th>mean</th>\n",
       "      <td>63.511222</td>\n",
       "      <td>11.512506</td>\n",
       "      <td>206.159809</td>\n",
       "      <td>0.055841</td>\n",
       "    </tr>\n",
       "    <tr>\n",
       "      <th>std</th>\n",
       "      <td>3.354400</td>\n",
       "      <td>4.423761</td>\n",
       "      <td>104.207044</td>\n",
       "      <td>0.229614</td>\n",
       "    </tr>\n",
       "    <tr>\n",
       "      <th>min</th>\n",
       "      <td>60.000000</td>\n",
       "      <td>11.000000</td>\n",
       "      <td>101.000000</td>\n",
       "      <td>0.000000</td>\n",
       "    </tr>\n",
       "    <tr>\n",
       "      <th>25%</th>\n",
       "      <td>62.000000</td>\n",
       "      <td>11.000000</td>\n",
       "      <td>103.000000</td>\n",
       "      <td>0.000000</td>\n",
       "    </tr>\n",
       "    <tr>\n",
       "      <th>50%</th>\n",
       "      <td>62.000000</td>\n",
       "      <td>11.000000</td>\n",
       "      <td>107.000000</td>\n",
       "      <td>0.000000</td>\n",
       "    </tr>\n",
       "    <tr>\n",
       "      <th>75%</th>\n",
       "      <td>69.000000</td>\n",
       "      <td>11.000000</td>\n",
       "      <td>307.000000</td>\n",
       "      <td>0.000000</td>\n",
       "    </tr>\n",
       "    <tr>\n",
       "      <th>max</th>\n",
       "      <td>69.000000</td>\n",
       "      <td>51.000000</td>\n",
       "      <td>399.000000</td>\n",
       "      <td>1.000000</td>\n",
       "    </tr>\n",
       "  </tbody>\n",
       "</table>\n",
       "</div>"
      ],
      "text/plain": [
       "             disrict    client_catg         region         target\n",
       "count  135493.000000  135493.000000  135493.000000  135493.000000\n",
       "mean       63.511222      11.512506     206.159809       0.055841\n",
       "std         3.354400       4.423761     104.207044       0.229614\n",
       "min        60.000000      11.000000     101.000000       0.000000\n",
       "25%        62.000000      11.000000     103.000000       0.000000\n",
       "50%        62.000000      11.000000     107.000000       0.000000\n",
       "75%        69.000000      11.000000     307.000000       0.000000\n",
       "max        69.000000      51.000000     399.000000       1.000000"
      ]
     },
     "metadata": {},
     "output_type": "display_data"
    },
    {
     "data": {
      "text/plain": [
       "' '"
      ]
     },
     "metadata": {},
     "output_type": "display_data"
    },
    {
     "data": {
      "text/plain": [
       "' '"
      ]
     },
     "metadata": {},
     "output_type": "display_data"
    },
    {
     "data": {
      "text/plain": [
       "'INVOICE TRAIN DATASET'"
      ]
     },
     "metadata": {},
     "output_type": "display_data"
    },
    {
     "name": "stdout",
     "output_type": "stream",
     "text": [
      "<class 'pandas.core.frame.DataFrame'>\n",
      "RangeIndex: 4476749 entries, 0 to 4476748\n",
      "Data columns (total 16 columns):\n",
      " #   Column                Dtype         \n",
      "---  ------                -----         \n",
      " 0   client_id             object        \n",
      " 1   invoice_date          datetime64[ns]\n",
      " 2   tarif_type            int64         \n",
      " 3   counter_number        int64         \n",
      " 4   counter_statue        object        \n",
      " 5   counter_code          int64         \n",
      " 6   reading_remarque      int64         \n",
      " 7   counter_coefficient   int64         \n",
      " 8   consommation_level_1  int64         \n",
      " 9   consommation_level_2  int64         \n",
      " 10  consommation_level_3  int64         \n",
      " 11  consommation_level_4  int64         \n",
      " 12  old_index             int64         \n",
      " 13  new_index             int64         \n",
      " 14  months_number         int64         \n",
      " 15  counter_type          object        \n",
      "dtypes: datetime64[ns](1), int64(12), object(3)\n",
      "memory usage: 546.5+ MB\n"
     ]
    },
    {
     "data": {
      "text/plain": [
       "None"
      ]
     },
     "metadata": {},
     "output_type": "display_data"
    },
    {
     "data": {
      "text/html": [
       "<div>\n",
       "<style scoped>\n",
       "    .dataframe tbody tr th:only-of-type {\n",
       "        vertical-align: middle;\n",
       "    }\n",
       "\n",
       "    .dataframe tbody tr th {\n",
       "        vertical-align: top;\n",
       "    }\n",
       "\n",
       "    .dataframe thead th {\n",
       "        text-align: right;\n",
       "    }\n",
       "</style>\n",
       "<table border=\"1\" class=\"dataframe\">\n",
       "  <thead>\n",
       "    <tr style=\"text-align: right;\">\n",
       "      <th></th>\n",
       "      <th>tarif_type</th>\n",
       "      <th>counter_number</th>\n",
       "      <th>counter_code</th>\n",
       "      <th>reading_remarque</th>\n",
       "      <th>counter_coefficient</th>\n",
       "      <th>consommation_level_1</th>\n",
       "      <th>consommation_level_2</th>\n",
       "      <th>consommation_level_3</th>\n",
       "      <th>consommation_level_4</th>\n",
       "      <th>old_index</th>\n",
       "      <th>new_index</th>\n",
       "      <th>months_number</th>\n",
       "    </tr>\n",
       "  </thead>\n",
       "  <tbody>\n",
       "    <tr>\n",
       "      <th>count</th>\n",
       "      <td>4.476749e+06</td>\n",
       "      <td>4.476749e+06</td>\n",
       "      <td>4.476749e+06</td>\n",
       "      <td>4.476749e+06</td>\n",
       "      <td>4.476749e+06</td>\n",
       "      <td>4.476749e+06</td>\n",
       "      <td>4.476749e+06</td>\n",
       "      <td>4.476749e+06</td>\n",
       "      <td>4.476749e+06</td>\n",
       "      <td>4.476749e+06</td>\n",
       "      <td>4.476749e+06</td>\n",
       "      <td>4.476749e+06</td>\n",
       "    </tr>\n",
       "    <tr>\n",
       "      <th>mean</th>\n",
       "      <td>2.012804e+01</td>\n",
       "      <td>1.230587e+11</td>\n",
       "      <td>1.724884e+02</td>\n",
       "      <td>7.321702e+00</td>\n",
       "      <td>1.003040e+00</td>\n",
       "      <td>4.109795e+02</td>\n",
       "      <td>1.093225e+02</td>\n",
       "      <td>2.030620e+01</td>\n",
       "      <td>5.292588e+01</td>\n",
       "      <td>1.776700e+04</td>\n",
       "      <td>1.834970e+04</td>\n",
       "      <td>4.483095e+01</td>\n",
       "    </tr>\n",
       "    <tr>\n",
       "      <th>std</th>\n",
       "      <td>1.347256e+01</td>\n",
       "      <td>1.657267e+12</td>\n",
       "      <td>1.338871e+02</td>\n",
       "      <td>1.571654e+00</td>\n",
       "      <td>3.083466e-01</td>\n",
       "      <td>7.573080e+02</td>\n",
       "      <td>1.220123e+03</td>\n",
       "      <td>1.574239e+02</td>\n",
       "      <td>8.754725e+02</td>\n",
       "      <td>4.036693e+04</td>\n",
       "      <td>4.095321e+04</td>\n",
       "      <td>3.128335e+03</td>\n",
       "    </tr>\n",
       "    <tr>\n",
       "      <th>min</th>\n",
       "      <td>8.000000e+00</td>\n",
       "      <td>0.000000e+00</td>\n",
       "      <td>0.000000e+00</td>\n",
       "      <td>5.000000e+00</td>\n",
       "      <td>0.000000e+00</td>\n",
       "      <td>0.000000e+00</td>\n",
       "      <td>0.000000e+00</td>\n",
       "      <td>0.000000e+00</td>\n",
       "      <td>0.000000e+00</td>\n",
       "      <td>0.000000e+00</td>\n",
       "      <td>0.000000e+00</td>\n",
       "      <td>0.000000e+00</td>\n",
       "    </tr>\n",
       "    <tr>\n",
       "      <th>25%</th>\n",
       "      <td>1.100000e+01</td>\n",
       "      <td>1.211080e+05</td>\n",
       "      <td>5.000000e+00</td>\n",
       "      <td>6.000000e+00</td>\n",
       "      <td>1.000000e+00</td>\n",
       "      <td>7.900000e+01</td>\n",
       "      <td>0.000000e+00</td>\n",
       "      <td>0.000000e+00</td>\n",
       "      <td>0.000000e+00</td>\n",
       "      <td>1.791000e+03</td>\n",
       "      <td>2.056000e+03</td>\n",
       "      <td>4.000000e+00</td>\n",
       "    </tr>\n",
       "    <tr>\n",
       "      <th>50%</th>\n",
       "      <td>1.100000e+01</td>\n",
       "      <td>4.945610e+05</td>\n",
       "      <td>2.030000e+02</td>\n",
       "      <td>8.000000e+00</td>\n",
       "      <td>1.000000e+00</td>\n",
       "      <td>2.740000e+02</td>\n",
       "      <td>0.000000e+00</td>\n",
       "      <td>0.000000e+00</td>\n",
       "      <td>0.000000e+00</td>\n",
       "      <td>7.690000e+03</td>\n",
       "      <td>8.192000e+03</td>\n",
       "      <td>4.000000e+00</td>\n",
       "    </tr>\n",
       "    <tr>\n",
       "      <th>75%</th>\n",
       "      <td>4.000000e+01</td>\n",
       "      <td>1.115161e+06</td>\n",
       "      <td>2.070000e+02</td>\n",
       "      <td>9.000000e+00</td>\n",
       "      <td>1.000000e+00</td>\n",
       "      <td>6.000000e+02</td>\n",
       "      <td>0.000000e+00</td>\n",
       "      <td>0.000000e+00</td>\n",
       "      <td>0.000000e+00</td>\n",
       "      <td>2.166000e+04</td>\n",
       "      <td>2.234300e+04</td>\n",
       "      <td>4.000000e+00</td>\n",
       "    </tr>\n",
       "    <tr>\n",
       "      <th>max</th>\n",
       "      <td>4.500000e+01</td>\n",
       "      <td>2.798115e+13</td>\n",
       "      <td>6.000000e+02</td>\n",
       "      <td>4.130000e+02</td>\n",
       "      <td>5.000000e+01</td>\n",
       "      <td>9.999100e+05</td>\n",
       "      <td>9.990730e+05</td>\n",
       "      <td>6.449200e+04</td>\n",
       "      <td>5.479460e+05</td>\n",
       "      <td>2.800280e+06</td>\n",
       "      <td>2.870972e+06</td>\n",
       "      <td>6.366240e+05</td>\n",
       "    </tr>\n",
       "  </tbody>\n",
       "</table>\n",
       "</div>"
      ],
      "text/plain": [
       "         tarif_type  counter_number  counter_code  reading_remarque  \\\n",
       "count  4.476749e+06    4.476749e+06  4.476749e+06      4.476749e+06   \n",
       "mean   2.012804e+01    1.230587e+11  1.724884e+02      7.321702e+00   \n",
       "std    1.347256e+01    1.657267e+12  1.338871e+02      1.571654e+00   \n",
       "min    8.000000e+00    0.000000e+00  0.000000e+00      5.000000e+00   \n",
       "25%    1.100000e+01    1.211080e+05  5.000000e+00      6.000000e+00   \n",
       "50%    1.100000e+01    4.945610e+05  2.030000e+02      8.000000e+00   \n",
       "75%    4.000000e+01    1.115161e+06  2.070000e+02      9.000000e+00   \n",
       "max    4.500000e+01    2.798115e+13  6.000000e+02      4.130000e+02   \n",
       "\n",
       "       counter_coefficient  consommation_level_1  consommation_level_2  \\\n",
       "count         4.476749e+06          4.476749e+06          4.476749e+06   \n",
       "mean          1.003040e+00          4.109795e+02          1.093225e+02   \n",
       "std           3.083466e-01          7.573080e+02          1.220123e+03   \n",
       "min           0.000000e+00          0.000000e+00          0.000000e+00   \n",
       "25%           1.000000e+00          7.900000e+01          0.000000e+00   \n",
       "50%           1.000000e+00          2.740000e+02          0.000000e+00   \n",
       "75%           1.000000e+00          6.000000e+02          0.000000e+00   \n",
       "max           5.000000e+01          9.999100e+05          9.990730e+05   \n",
       "\n",
       "       consommation_level_3  consommation_level_4     old_index     new_index  \\\n",
       "count          4.476749e+06          4.476749e+06  4.476749e+06  4.476749e+06   \n",
       "mean           2.030620e+01          5.292588e+01  1.776700e+04  1.834970e+04   \n",
       "std            1.574239e+02          8.754725e+02  4.036693e+04  4.095321e+04   \n",
       "min            0.000000e+00          0.000000e+00  0.000000e+00  0.000000e+00   \n",
       "25%            0.000000e+00          0.000000e+00  1.791000e+03  2.056000e+03   \n",
       "50%            0.000000e+00          0.000000e+00  7.690000e+03  8.192000e+03   \n",
       "75%            0.000000e+00          0.000000e+00  2.166000e+04  2.234300e+04   \n",
       "max            6.449200e+04          5.479460e+05  2.800280e+06  2.870972e+06   \n",
       "\n",
       "       months_number  \n",
       "count   4.476749e+06  \n",
       "mean    4.483095e+01  \n",
       "std     3.128335e+03  \n",
       "min     0.000000e+00  \n",
       "25%     4.000000e+00  \n",
       "50%     4.000000e+00  \n",
       "75%     4.000000e+00  \n",
       "max     6.366240e+05  "
      ]
     },
     "metadata": {},
     "output_type": "display_data"
    },
    {
     "data": {
      "text/plain": [
       "' '"
      ]
     },
     "metadata": {},
     "output_type": "display_data"
    },
    {
     "data": {
      "text/plain": [
       "' '"
      ]
     },
     "metadata": {},
     "output_type": "display_data"
    },
    {
     "data": {
      "text/plain": [
       "'CLIENT TEST DATASET'"
      ]
     },
     "metadata": {},
     "output_type": "display_data"
    },
    {
     "name": "stdout",
     "output_type": "stream",
     "text": [
      "<class 'pandas.core.frame.DataFrame'>\n",
      "RangeIndex: 58069 entries, 0 to 58068\n",
      "Data columns (total 5 columns):\n",
      " #   Column         Non-Null Count  Dtype         \n",
      "---  ------         --------------  -----         \n",
      " 0   disrict        58069 non-null  int64         \n",
      " 1   client_id      58069 non-null  object        \n",
      " 2   client_catg    58069 non-null  int64         \n",
      " 3   region         58069 non-null  int64         \n",
      " 4   creation_date  58069 non-null  datetime64[ns]\n",
      "dtypes: datetime64[ns](1), int64(3), object(1)\n",
      "memory usage: 2.2+ MB\n"
     ]
    },
    {
     "data": {
      "text/plain": [
       "None"
      ]
     },
     "metadata": {},
     "output_type": "display_data"
    },
    {
     "data": {
      "text/html": [
       "<div>\n",
       "<style scoped>\n",
       "    .dataframe tbody tr th:only-of-type {\n",
       "        vertical-align: middle;\n",
       "    }\n",
       "\n",
       "    .dataframe tbody tr th {\n",
       "        vertical-align: top;\n",
       "    }\n",
       "\n",
       "    .dataframe thead th {\n",
       "        text-align: right;\n",
       "    }\n",
       "</style>\n",
       "<table border=\"1\" class=\"dataframe\">\n",
       "  <thead>\n",
       "    <tr style=\"text-align: right;\">\n",
       "      <th></th>\n",
       "      <th>disrict</th>\n",
       "      <th>client_catg</th>\n",
       "      <th>region</th>\n",
       "    </tr>\n",
       "  </thead>\n",
       "  <tbody>\n",
       "    <tr>\n",
       "      <th>count</th>\n",
       "      <td>58069.000000</td>\n",
       "      <td>58069.000000</td>\n",
       "      <td>58069.000000</td>\n",
       "    </tr>\n",
       "    <tr>\n",
       "      <th>mean</th>\n",
       "      <td>63.510617</td>\n",
       "      <td>11.507224</td>\n",
       "      <td>206.018461</td>\n",
       "    </tr>\n",
       "    <tr>\n",
       "      <th>std</th>\n",
       "      <td>3.356708</td>\n",
       "      <td>4.395923</td>\n",
       "      <td>104.144028</td>\n",
       "    </tr>\n",
       "    <tr>\n",
       "      <th>min</th>\n",
       "      <td>60.000000</td>\n",
       "      <td>11.000000</td>\n",
       "      <td>101.000000</td>\n",
       "    </tr>\n",
       "    <tr>\n",
       "      <th>25%</th>\n",
       "      <td>62.000000</td>\n",
       "      <td>11.000000</td>\n",
       "      <td>103.000000</td>\n",
       "    </tr>\n",
       "    <tr>\n",
       "      <th>50%</th>\n",
       "      <td>62.000000</td>\n",
       "      <td>11.000000</td>\n",
       "      <td>107.000000</td>\n",
       "    </tr>\n",
       "    <tr>\n",
       "      <th>75%</th>\n",
       "      <td>69.000000</td>\n",
       "      <td>11.000000</td>\n",
       "      <td>307.000000</td>\n",
       "    </tr>\n",
       "    <tr>\n",
       "      <th>max</th>\n",
       "      <td>69.000000</td>\n",
       "      <td>51.000000</td>\n",
       "      <td>399.000000</td>\n",
       "    </tr>\n",
       "  </tbody>\n",
       "</table>\n",
       "</div>"
      ],
      "text/plain": [
       "            disrict   client_catg        region\n",
       "count  58069.000000  58069.000000  58069.000000\n",
       "mean      63.510617     11.507224    206.018461\n",
       "std        3.356708      4.395923    104.144028\n",
       "min       60.000000     11.000000    101.000000\n",
       "25%       62.000000     11.000000    103.000000\n",
       "50%       62.000000     11.000000    107.000000\n",
       "75%       69.000000     11.000000    307.000000\n",
       "max       69.000000     51.000000    399.000000"
      ]
     },
     "metadata": {},
     "output_type": "display_data"
    },
    {
     "data": {
      "text/plain": [
       "' '"
      ]
     },
     "metadata": {},
     "output_type": "display_data"
    },
    {
     "data": {
      "text/plain": [
       "' '"
      ]
     },
     "metadata": {},
     "output_type": "display_data"
    },
    {
     "data": {
      "text/plain": [
       "'INVOICE TEST DATASET'"
      ]
     },
     "metadata": {},
     "output_type": "display_data"
    },
    {
     "name": "stdout",
     "output_type": "stream",
     "text": [
      "<class 'pandas.core.frame.DataFrame'>\n",
      "RangeIndex: 1939730 entries, 0 to 1939729\n",
      "Data columns (total 16 columns):\n",
      " #   Column                Dtype         \n",
      "---  ------                -----         \n",
      " 0   client_id             object        \n",
      " 1   invoice_date          datetime64[ns]\n",
      " 2   tarif_type            int64         \n",
      " 3   counter_number        int64         \n",
      " 4   counter_statue        int64         \n",
      " 5   counter_code          int64         \n",
      " 6   reading_remarque      int64         \n",
      " 7   counter_coefficient   int64         \n",
      " 8   consommation_level_1  int64         \n",
      " 9   consommation_level_2  int64         \n",
      " 10  consommation_level_3  int64         \n",
      " 11  consommation_level_4  int64         \n",
      " 12  old_index             int64         \n",
      " 13  new_index             int64         \n",
      " 14  months_number         int64         \n",
      " 15  counter_type          object        \n",
      "dtypes: datetime64[ns](1), int64(13), object(2)\n",
      "memory usage: 236.8+ MB\n"
     ]
    },
    {
     "data": {
      "text/plain": [
       "None"
      ]
     },
     "metadata": {},
     "output_type": "display_data"
    },
    {
     "data": {
      "text/html": [
       "<div>\n",
       "<style scoped>\n",
       "    .dataframe tbody tr th:only-of-type {\n",
       "        vertical-align: middle;\n",
       "    }\n",
       "\n",
       "    .dataframe tbody tr th {\n",
       "        vertical-align: top;\n",
       "    }\n",
       "\n",
       "    .dataframe thead th {\n",
       "        text-align: right;\n",
       "    }\n",
       "</style>\n",
       "<table border=\"1\" class=\"dataframe\">\n",
       "  <thead>\n",
       "    <tr style=\"text-align: right;\">\n",
       "      <th></th>\n",
       "      <th>tarif_type</th>\n",
       "      <th>counter_number</th>\n",
       "      <th>counter_statue</th>\n",
       "      <th>counter_code</th>\n",
       "      <th>reading_remarque</th>\n",
       "      <th>counter_coefficient</th>\n",
       "      <th>consommation_level_1</th>\n",
       "      <th>consommation_level_2</th>\n",
       "      <th>consommation_level_3</th>\n",
       "      <th>consommation_level_4</th>\n",
       "      <th>old_index</th>\n",
       "      <th>new_index</th>\n",
       "      <th>months_number</th>\n",
       "    </tr>\n",
       "  </thead>\n",
       "  <tbody>\n",
       "    <tr>\n",
       "      <th>count</th>\n",
       "      <td>1.939730e+06</td>\n",
       "      <td>1.939730e+06</td>\n",
       "      <td>1.939730e+06</td>\n",
       "      <td>1.939730e+06</td>\n",
       "      <td>1.939730e+06</td>\n",
       "      <td>1.939730e+06</td>\n",
       "      <td>1.939730e+06</td>\n",
       "      <td>1.939730e+06</td>\n",
       "      <td>1.939730e+06</td>\n",
       "      <td>1.939730e+06</td>\n",
       "      <td>1.939730e+06</td>\n",
       "      <td>1.939730e+06</td>\n",
       "      <td>1.939730e+06</td>\n",
       "    </tr>\n",
       "    <tr>\n",
       "      <th>mean</th>\n",
       "      <td>2.011711e+01</td>\n",
       "      <td>1.250499e+11</td>\n",
       "      <td>4.207647e-02</td>\n",
       "      <td>1.733742e+02</td>\n",
       "      <td>7.321898e+00</td>\n",
       "      <td>1.000460e+00</td>\n",
       "      <td>4.146279e+02</td>\n",
       "      <td>1.165942e+02</td>\n",
       "      <td>2.154889e+01</td>\n",
       "      <td>5.715360e+01</td>\n",
       "      <td>1.823083e+04</td>\n",
       "      <td>1.889133e+04</td>\n",
       "      <td>1.171288e+02</td>\n",
       "    </tr>\n",
       "    <tr>\n",
       "      <th>std</th>\n",
       "      <td>1.346528e+01</td>\n",
       "      <td>1.675264e+12</td>\n",
       "      <td>3.745849e-01</td>\n",
       "      <td>1.346030e+02</td>\n",
       "      <td>1.359839e+00</td>\n",
       "      <td>2.973967e-02</td>\n",
       "      <td>6.035931e+02</td>\n",
       "      <td>1.087467e+03</td>\n",
       "      <td>2.352451e+02</td>\n",
       "      <td>9.352610e+02</td>\n",
       "      <td>4.348538e+04</td>\n",
       "      <td>4.464089e+04</td>\n",
       "      <td>7.834548e+03</td>\n",
       "    </tr>\n",
       "    <tr>\n",
       "      <th>min</th>\n",
       "      <td>8.000000e+00</td>\n",
       "      <td>0.000000e+00</td>\n",
       "      <td>0.000000e+00</td>\n",
       "      <td>5.000000e+00</td>\n",
       "      <td>6.000000e+00</td>\n",
       "      <td>0.000000e+00</td>\n",
       "      <td>0.000000e+00</td>\n",
       "      <td>0.000000e+00</td>\n",
       "      <td>0.000000e+00</td>\n",
       "      <td>0.000000e+00</td>\n",
       "      <td>0.000000e+00</td>\n",
       "      <td>0.000000e+00</td>\n",
       "      <td>0.000000e+00</td>\n",
       "    </tr>\n",
       "    <tr>\n",
       "      <th>25%</th>\n",
       "      <td>1.100000e+01</td>\n",
       "      <td>1.209900e+05</td>\n",
       "      <td>0.000000e+00</td>\n",
       "      <td>5.000000e+00</td>\n",
       "      <td>6.000000e+00</td>\n",
       "      <td>1.000000e+00</td>\n",
       "      <td>8.000000e+01</td>\n",
       "      <td>0.000000e+00</td>\n",
       "      <td>0.000000e+00</td>\n",
       "      <td>0.000000e+00</td>\n",
       "      <td>1.814000e+03</td>\n",
       "      <td>2.083000e+03</td>\n",
       "      <td>4.000000e+00</td>\n",
       "    </tr>\n",
       "    <tr>\n",
       "      <th>50%</th>\n",
       "      <td>1.100000e+01</td>\n",
       "      <td>4.943000e+05</td>\n",
       "      <td>0.000000e+00</td>\n",
       "      <td>2.030000e+02</td>\n",
       "      <td>8.000000e+00</td>\n",
       "      <td>1.000000e+00</td>\n",
       "      <td>2.770000e+02</td>\n",
       "      <td>0.000000e+00</td>\n",
       "      <td>0.000000e+00</td>\n",
       "      <td>0.000000e+00</td>\n",
       "      <td>7.819000e+03</td>\n",
       "      <td>8.326000e+03</td>\n",
       "      <td>4.000000e+00</td>\n",
       "    </tr>\n",
       "    <tr>\n",
       "      <th>75%</th>\n",
       "      <td>4.000000e+01</td>\n",
       "      <td>1.104817e+06</td>\n",
       "      <td>0.000000e+00</td>\n",
       "      <td>2.070000e+02</td>\n",
       "      <td>9.000000e+00</td>\n",
       "      <td>1.000000e+00</td>\n",
       "      <td>6.030000e+02</td>\n",
       "      <td>0.000000e+00</td>\n",
       "      <td>0.000000e+00</td>\n",
       "      <td>0.000000e+00</td>\n",
       "      <td>2.212000e+04</td>\n",
       "      <td>2.281400e+04</td>\n",
       "      <td>4.000000e+00</td>\n",
       "    </tr>\n",
       "    <tr>\n",
       "      <th>max</th>\n",
       "      <td>4.500000e+01</td>\n",
       "      <td>2.787340e+13</td>\n",
       "      <td>5.000000e+00</td>\n",
       "      <td>6.000000e+02</td>\n",
       "      <td>9.000000e+00</td>\n",
       "      <td>2.100000e+01</td>\n",
       "      <td>1.108580e+05</td>\n",
       "      <td>3.090390e+05</td>\n",
       "      <td>7.167000e+04</td>\n",
       "      <td>3.009340e+05</td>\n",
       "      <td>3.039577e+06</td>\n",
       "      <td>3.066673e+06</td>\n",
       "      <td>9.906880e+05</td>\n",
       "    </tr>\n",
       "  </tbody>\n",
       "</table>\n",
       "</div>"
      ],
      "text/plain": [
       "         tarif_type  counter_number  counter_statue  counter_code  \\\n",
       "count  1.939730e+06    1.939730e+06    1.939730e+06  1.939730e+06   \n",
       "mean   2.011711e+01    1.250499e+11    4.207647e-02  1.733742e+02   \n",
       "std    1.346528e+01    1.675264e+12    3.745849e-01  1.346030e+02   \n",
       "min    8.000000e+00    0.000000e+00    0.000000e+00  5.000000e+00   \n",
       "25%    1.100000e+01    1.209900e+05    0.000000e+00  5.000000e+00   \n",
       "50%    1.100000e+01    4.943000e+05    0.000000e+00  2.030000e+02   \n",
       "75%    4.000000e+01    1.104817e+06    0.000000e+00  2.070000e+02   \n",
       "max    4.500000e+01    2.787340e+13    5.000000e+00  6.000000e+02   \n",
       "\n",
       "       reading_remarque  counter_coefficient  consommation_level_1  \\\n",
       "count      1.939730e+06         1.939730e+06          1.939730e+06   \n",
       "mean       7.321898e+00         1.000460e+00          4.146279e+02   \n",
       "std        1.359839e+00         2.973967e-02          6.035931e+02   \n",
       "min        6.000000e+00         0.000000e+00          0.000000e+00   \n",
       "25%        6.000000e+00         1.000000e+00          8.000000e+01   \n",
       "50%        8.000000e+00         1.000000e+00          2.770000e+02   \n",
       "75%        9.000000e+00         1.000000e+00          6.030000e+02   \n",
       "max        9.000000e+00         2.100000e+01          1.108580e+05   \n",
       "\n",
       "       consommation_level_2  consommation_level_3  consommation_level_4  \\\n",
       "count          1.939730e+06          1.939730e+06          1.939730e+06   \n",
       "mean           1.165942e+02          2.154889e+01          5.715360e+01   \n",
       "std            1.087467e+03          2.352451e+02          9.352610e+02   \n",
       "min            0.000000e+00          0.000000e+00          0.000000e+00   \n",
       "25%            0.000000e+00          0.000000e+00          0.000000e+00   \n",
       "50%            0.000000e+00          0.000000e+00          0.000000e+00   \n",
       "75%            0.000000e+00          0.000000e+00          0.000000e+00   \n",
       "max            3.090390e+05          7.167000e+04          3.009340e+05   \n",
       "\n",
       "          old_index     new_index  months_number  \n",
       "count  1.939730e+06  1.939730e+06   1.939730e+06  \n",
       "mean   1.823083e+04  1.889133e+04   1.171288e+02  \n",
       "std    4.348538e+04  4.464089e+04   7.834548e+03  \n",
       "min    0.000000e+00  0.000000e+00   0.000000e+00  \n",
       "25%    1.814000e+03  2.083000e+03   4.000000e+00  \n",
       "50%    7.819000e+03  8.326000e+03   4.000000e+00  \n",
       "75%    2.212000e+04  2.281400e+04   4.000000e+00  \n",
       "max    3.039577e+06  3.066673e+06   9.906880e+05  "
      ]
     },
     "metadata": {},
     "output_type": "display_data"
    },
    {
     "data": {
      "text/plain": [
       "' '"
      ]
     },
     "metadata": {},
     "output_type": "display_data"
    },
    {
     "data": {
      "text/plain": [
       "' '"
      ]
     },
     "metadata": {},
     "output_type": "display_data"
    },
    {
     "data": {
      "text/plain": [
       "'SAMPLE SUBMISSION DATASET'"
      ]
     },
     "metadata": {},
     "output_type": "display_data"
    },
    {
     "name": "stdout",
     "output_type": "stream",
     "text": [
      "<class 'pandas.core.frame.DataFrame'>\n",
      "RangeIndex: 58069 entries, 0 to 58068\n",
      "Data columns (total 2 columns):\n",
      " #   Column     Non-Null Count  Dtype  \n",
      "---  ------     --------------  -----  \n",
      " 0   client_id  58069 non-null  object \n",
      " 1   target     58069 non-null  float64\n",
      "dtypes: float64(1), object(1)\n",
      "memory usage: 907.5+ KB\n"
     ]
    },
    {
     "data": {
      "text/plain": [
       "None"
      ]
     },
     "metadata": {},
     "output_type": "display_data"
    },
    {
     "data": {
      "text/html": [
       "<div>\n",
       "<style scoped>\n",
       "    .dataframe tbody tr th:only-of-type {\n",
       "        vertical-align: middle;\n",
       "    }\n",
       "\n",
       "    .dataframe tbody tr th {\n",
       "        vertical-align: top;\n",
       "    }\n",
       "\n",
       "    .dataframe thead th {\n",
       "        text-align: right;\n",
       "    }\n",
       "</style>\n",
       "<table border=\"1\" class=\"dataframe\">\n",
       "  <thead>\n",
       "    <tr style=\"text-align: right;\">\n",
       "      <th></th>\n",
       "      <th>target</th>\n",
       "    </tr>\n",
       "  </thead>\n",
       "  <tbody>\n",
       "    <tr>\n",
       "      <th>count</th>\n",
       "      <td>58069.000000</td>\n",
       "    </tr>\n",
       "    <tr>\n",
       "      <th>mean</th>\n",
       "      <td>0.501326</td>\n",
       "    </tr>\n",
       "    <tr>\n",
       "      <th>std</th>\n",
       "      <td>0.289530</td>\n",
       "    </tr>\n",
       "    <tr>\n",
       "      <th>min</th>\n",
       "      <td>0.000024</td>\n",
       "    </tr>\n",
       "    <tr>\n",
       "      <th>25%</th>\n",
       "      <td>0.250073</td>\n",
       "    </tr>\n",
       "    <tr>\n",
       "      <th>50%</th>\n",
       "      <td>0.501540</td>\n",
       "    </tr>\n",
       "    <tr>\n",
       "      <th>75%</th>\n",
       "      <td>0.754261</td>\n",
       "    </tr>\n",
       "    <tr>\n",
       "      <th>max</th>\n",
       "      <td>0.999987</td>\n",
       "    </tr>\n",
       "  </tbody>\n",
       "</table>\n",
       "</div>"
      ],
      "text/plain": [
       "             target\n",
       "count  58069.000000\n",
       "mean       0.501326\n",
       "std        0.289530\n",
       "min        0.000024\n",
       "25%        0.250073\n",
       "50%        0.501540\n",
       "75%        0.754261\n",
       "max        0.999987"
      ]
     },
     "metadata": {},
     "output_type": "display_data"
    }
   ],
   "source": [
    "display(\"CLIENT TRAIN DATASET\")\n",
    "display(client_train.info())\n",
    "display(client_train.describe())\n",
    "display(\" \")\n",
    "display(\" \")\n",
    "display(\"INVOICE TRAIN DATASET\")\n",
    "display(invoice_train.info())\n",
    "display(invoice_train.describe())\n",
    "display(\" \")\n",
    "display(\" \")\n",
    "display(\"CLIENT TEST DATASET\")\n",
    "display(client_test.info())\n",
    "display(client_test.describe())\n",
    "display(\" \")\n",
    "display(\" \")\n",
    "display(\"INVOICE TEST DATASET\")\n",
    "display(invoice_test.info())\n",
    "display(invoice_test.describe())\n",
    "display(\" \")\n",
    "display(\" \")\n",
    "display(\"SAMPLE SUBMISSION DATASET\")\n",
    "display(sample_submission.info())\n",
    "display(sample_submission.describe())"
   ]
  },
  {
   "cell_type": "code",
   "execution_count": 7,
   "id": "d6c6da51-0780-4c91-866f-113436469c51",
   "metadata": {},
   "outputs": [
    {
     "data": {
      "text/html": [
       "<div>\n",
       "<style scoped>\n",
       "    .dataframe tbody tr th:only-of-type {\n",
       "        vertical-align: middle;\n",
       "    }\n",
       "\n",
       "    .dataframe tbody tr th {\n",
       "        vertical-align: top;\n",
       "    }\n",
       "\n",
       "    .dataframe thead th {\n",
       "        text-align: right;\n",
       "    }\n",
       "</style>\n",
       "<table border=\"1\" class=\"dataframe\">\n",
       "  <thead>\n",
       "    <tr style=\"text-align: right;\">\n",
       "      <th></th>\n",
       "      <th>client_id</th>\n",
       "      <th>target</th>\n",
       "    </tr>\n",
       "  </thead>\n",
       "  <tbody>\n",
       "    <tr>\n",
       "      <th>0</th>\n",
       "      <td>test_Client_0</td>\n",
       "      <td>0.957281</td>\n",
       "    </tr>\n",
       "    <tr>\n",
       "      <th>1</th>\n",
       "      <td>test_Client_1</td>\n",
       "      <td>0.996425</td>\n",
       "    </tr>\n",
       "    <tr>\n",
       "      <th>2</th>\n",
       "      <td>test_Client_10</td>\n",
       "      <td>0.612359</td>\n",
       "    </tr>\n",
       "    <tr>\n",
       "      <th>3</th>\n",
       "      <td>test_Client_100</td>\n",
       "      <td>0.776933</td>\n",
       "    </tr>\n",
       "    <tr>\n",
       "      <th>4</th>\n",
       "      <td>test_Client_1000</td>\n",
       "      <td>0.571046</td>\n",
       "    </tr>\n",
       "    <tr>\n",
       "      <th>...</th>\n",
       "      <td>...</td>\n",
       "      <td>...</td>\n",
       "    </tr>\n",
       "    <tr>\n",
       "      <th>58064</th>\n",
       "      <td>test_Client_9995</td>\n",
       "      <td>0.882548</td>\n",
       "    </tr>\n",
       "    <tr>\n",
       "      <th>58065</th>\n",
       "      <td>test_Client_9996</td>\n",
       "      <td>0.715918</td>\n",
       "    </tr>\n",
       "    <tr>\n",
       "      <th>58066</th>\n",
       "      <td>test_Client_9997</td>\n",
       "      <td>0.285178</td>\n",
       "    </tr>\n",
       "    <tr>\n",
       "      <th>58067</th>\n",
       "      <td>test_Client_9998</td>\n",
       "      <td>0.154661</td>\n",
       "    </tr>\n",
       "    <tr>\n",
       "      <th>58068</th>\n",
       "      <td>test_Client_9999</td>\n",
       "      <td>0.556017</td>\n",
       "    </tr>\n",
       "  </tbody>\n",
       "</table>\n",
       "<p>58069 rows × 2 columns</p>\n",
       "</div>"
      ],
      "text/plain": [
       "              client_id    target\n",
       "0         test_Client_0  0.957281\n",
       "1         test_Client_1  0.996425\n",
       "2        test_Client_10  0.612359\n",
       "3       test_Client_100  0.776933\n",
       "4      test_Client_1000  0.571046\n",
       "...                 ...       ...\n",
       "58064  test_Client_9995  0.882548\n",
       "58065  test_Client_9996  0.715918\n",
       "58066  test_Client_9997  0.285178\n",
       "58067  test_Client_9998  0.154661\n",
       "58068  test_Client_9999  0.556017\n",
       "\n",
       "[58069 rows x 2 columns]"
      ]
     },
     "execution_count": 7,
     "metadata": {},
     "output_type": "execute_result"
    }
   ],
   "source": [
    "sample_submission"
   ]
  },
  {
   "cell_type": "code",
   "execution_count": 8,
   "id": "e87a340e-3e36-48ff-98de-a2dd44d48f39",
   "metadata": {},
   "outputs": [
    {
     "data": {
      "text/plain": [
       "58069"
      ]
     },
     "execution_count": 8,
     "metadata": {},
     "output_type": "execute_result"
    }
   ],
   "source": [
    "sample_submission.target.nunique()"
   ]
  },
  {
   "cell_type": "markdown",
   "id": "d53a2117-e763-462f-ae18-7a3ac3825e59",
   "metadata": {
    "tags": []
   },
   "source": [
    "<h1 style=\"font-size:4rem;color:blue;\">Data Preprocessing</h1>"
   ]
  },
  {
   "cell_type": "code",
   "execution_count": 9,
   "id": "af9e8d7d-1618-4bfe-9b2e-c9a3dff379c4",
   "metadata": {},
   "outputs": [],
   "source": [
    "# concatenate the datasets"
   ]
  },
  {
   "cell_type": "code",
   "execution_count": 10,
   "id": "ecc5cee0",
   "metadata": {},
   "outputs": [],
   "source": [
    "client = pd.concat([client_train, client_test])\n",
    "invoices = pd.concat([invoice_train, invoice_test])"
   ]
  },
  {
   "cell_type": "code",
   "execution_count": 11,
   "id": "b5e8c343",
   "metadata": {},
   "outputs": [
    {
     "name": "stdout",
     "output_type": "stream",
     "text": [
      "(193562, 6)\n"
     ]
    },
    {
     "data": {
      "text/html": [
       "<div>\n",
       "<style scoped>\n",
       "    .dataframe tbody tr th:only-of-type {\n",
       "        vertical-align: middle;\n",
       "    }\n",
       "\n",
       "    .dataframe tbody tr th {\n",
       "        vertical-align: top;\n",
       "    }\n",
       "\n",
       "    .dataframe thead th {\n",
       "        text-align: right;\n",
       "    }\n",
       "</style>\n",
       "<table border=\"1\" class=\"dataframe\">\n",
       "  <thead>\n",
       "    <tr style=\"text-align: right;\">\n",
       "      <th></th>\n",
       "      <th>disrict</th>\n",
       "      <th>client_id</th>\n",
       "      <th>client_catg</th>\n",
       "      <th>region</th>\n",
       "      <th>creation_date</th>\n",
       "      <th>target</th>\n",
       "    </tr>\n",
       "  </thead>\n",
       "  <tbody>\n",
       "    <tr>\n",
       "      <th>0</th>\n",
       "      <td>60</td>\n",
       "      <td>train_Client_0</td>\n",
       "      <td>11</td>\n",
       "      <td>101</td>\n",
       "      <td>1994-12-31</td>\n",
       "      <td>0.0</td>\n",
       "    </tr>\n",
       "    <tr>\n",
       "      <th>1</th>\n",
       "      <td>69</td>\n",
       "      <td>train_Client_1</td>\n",
       "      <td>11</td>\n",
       "      <td>107</td>\n",
       "      <td>2002-05-29</td>\n",
       "      <td>0.0</td>\n",
       "    </tr>\n",
       "  </tbody>\n",
       "</table>\n",
       "</div>"
      ],
      "text/plain": [
       "   disrict       client_id  client_catg  region creation_date  target\n",
       "0       60  train_Client_0           11     101    1994-12-31     0.0\n",
       "1       69  train_Client_1           11     107    2002-05-29     0.0"
      ]
     },
     "execution_count": 11,
     "metadata": {},
     "output_type": "execute_result"
    }
   ],
   "source": [
    "print(client.shape)\n",
    "client.head(2)"
   ]
  },
  {
   "cell_type": "code",
   "execution_count": 12,
   "id": "2b953b43",
   "metadata": {},
   "outputs": [
    {
     "name": "stdout",
     "output_type": "stream",
     "text": [
      "(6416479, 16)\n"
     ]
    },
    {
     "data": {
      "text/html": [
       "<div>\n",
       "<style scoped>\n",
       "    .dataframe tbody tr th:only-of-type {\n",
       "        vertical-align: middle;\n",
       "    }\n",
       "\n",
       "    .dataframe tbody tr th {\n",
       "        vertical-align: top;\n",
       "    }\n",
       "\n",
       "    .dataframe thead th {\n",
       "        text-align: right;\n",
       "    }\n",
       "</style>\n",
       "<table border=\"1\" class=\"dataframe\">\n",
       "  <thead>\n",
       "    <tr style=\"text-align: right;\">\n",
       "      <th></th>\n",
       "      <th>client_id</th>\n",
       "      <th>invoice_date</th>\n",
       "      <th>tarif_type</th>\n",
       "      <th>counter_number</th>\n",
       "      <th>counter_statue</th>\n",
       "      <th>counter_code</th>\n",
       "      <th>reading_remarque</th>\n",
       "      <th>counter_coefficient</th>\n",
       "      <th>consommation_level_1</th>\n",
       "      <th>consommation_level_2</th>\n",
       "      <th>consommation_level_3</th>\n",
       "      <th>consommation_level_4</th>\n",
       "      <th>old_index</th>\n",
       "      <th>new_index</th>\n",
       "      <th>months_number</th>\n",
       "      <th>counter_type</th>\n",
       "    </tr>\n",
       "  </thead>\n",
       "  <tbody>\n",
       "    <tr>\n",
       "      <th>0</th>\n",
       "      <td>train_Client_0</td>\n",
       "      <td>2014-03-24</td>\n",
       "      <td>11</td>\n",
       "      <td>1335667</td>\n",
       "      <td>0</td>\n",
       "      <td>203</td>\n",
       "      <td>8</td>\n",
       "      <td>1</td>\n",
       "      <td>82</td>\n",
       "      <td>0</td>\n",
       "      <td>0</td>\n",
       "      <td>0</td>\n",
       "      <td>14302</td>\n",
       "      <td>14384</td>\n",
       "      <td>4</td>\n",
       "      <td>ELEC</td>\n",
       "    </tr>\n",
       "    <tr>\n",
       "      <th>1</th>\n",
       "      <td>train_Client_0</td>\n",
       "      <td>2013-03-29</td>\n",
       "      <td>11</td>\n",
       "      <td>1335667</td>\n",
       "      <td>0</td>\n",
       "      <td>203</td>\n",
       "      <td>6</td>\n",
       "      <td>1</td>\n",
       "      <td>1200</td>\n",
       "      <td>184</td>\n",
       "      <td>0</td>\n",
       "      <td>0</td>\n",
       "      <td>12294</td>\n",
       "      <td>13678</td>\n",
       "      <td>4</td>\n",
       "      <td>ELEC</td>\n",
       "    </tr>\n",
       "  </tbody>\n",
       "</table>\n",
       "</div>"
      ],
      "text/plain": [
       "        client_id invoice_date  tarif_type  counter_number counter_statue  \\\n",
       "0  train_Client_0   2014-03-24          11         1335667              0   \n",
       "1  train_Client_0   2013-03-29          11         1335667              0   \n",
       "\n",
       "   counter_code  reading_remarque  counter_coefficient  consommation_level_1  \\\n",
       "0           203                 8                    1                    82   \n",
       "1           203                 6                    1                  1200   \n",
       "\n",
       "   consommation_level_2  consommation_level_3  consommation_level_4  \\\n",
       "0                     0                     0                     0   \n",
       "1                   184                     0                     0   \n",
       "\n",
       "   old_index  new_index  months_number counter_type  \n",
       "0      14302      14384              4         ELEC  \n",
       "1      12294      13678              4         ELEC  "
      ]
     },
     "execution_count": 12,
     "metadata": {},
     "output_type": "execute_result"
    }
   ],
   "source": [
    "print(invoices.shape)\n",
    "invoices.head(2)"
   ]
  },
  {
   "cell_type": "code",
   "execution_count": 13,
   "id": "ea1e290c",
   "metadata": {},
   "outputs": [
    {
     "data": {
      "text/plain": [
       "disrict              0\n",
       "client_id            0\n",
       "client_catg          0\n",
       "region               0\n",
       "creation_date        0\n",
       "target           58069\n",
       "dtype: int64"
      ]
     },
     "execution_count": 13,
     "metadata": {},
     "output_type": "execute_result"
    }
   ],
   "source": [
    "client.isna().sum()"
   ]
  },
  {
   "cell_type": "code",
   "execution_count": 14,
   "id": "366ea161",
   "metadata": {},
   "outputs": [
    {
     "data": {
      "text/plain": [
       "client_id               0\n",
       "invoice_date            0\n",
       "tarif_type              0\n",
       "counter_number          0\n",
       "counter_statue          0\n",
       "counter_code            0\n",
       "reading_remarque        0\n",
       "counter_coefficient     0\n",
       "consommation_level_1    0\n",
       "consommation_level_2    0\n",
       "consommation_level_3    0\n",
       "consommation_level_4    0\n",
       "old_index               0\n",
       "new_index               0\n",
       "months_number           0\n",
       "counter_type            0\n",
       "dtype: int64"
      ]
     },
     "execution_count": 14,
     "metadata": {},
     "output_type": "execute_result"
    }
   ],
   "source": [
    "invoices.isna().sum()"
   ]
  },
  {
   "cell_type": "code",
   "execution_count": 15,
   "id": "e78198b8",
   "metadata": {},
   "outputs": [
    {
     "data": {
      "text/plain": [
       "Index(['client_id', 'invoice_date', 'tarif_type', 'counter_number',\n",
       "       'counter_statue', 'counter_code', 'reading_remarque',\n",
       "       'counter_coefficient', 'consommation_level_1', 'consommation_level_2',\n",
       "       'consommation_level_3', 'consommation_level_4', 'old_index',\n",
       "       'new_index', 'months_number', 'counter_type'],\n",
       "      dtype='object')"
      ]
     },
     "execution_count": 15,
     "metadata": {},
     "output_type": "execute_result"
    }
   ],
   "source": [
    "invoices.columns"
   ]
  },
  {
   "cell_type": "code",
   "execution_count": 16,
   "id": "1bbb4c58",
   "metadata": {},
   "outputs": [
    {
     "data": {
      "text/plain": [
       "ELEC    4415200\n",
       "GAZ     2001279\n",
       "Name: counter_type, dtype: int64"
      ]
     },
     "execution_count": 16,
     "metadata": {},
     "output_type": "execute_result"
    }
   ],
   "source": [
    "invoices.counter_type.value_counts()"
   ]
  },
  {
   "cell_type": "code",
   "execution_count": 17,
   "id": "214b3f76",
   "metadata": {},
   "outputs": [
    {
     "name": "stdout",
     "output_type": "stream",
     "text": [
      "client_id : 193562\n",
      "invoice_date : 8697\n",
      "tarif_type : 17\n",
      "counter_number : 276455\n",
      "counter_statue : 16\n",
      "counter_code : 42\n",
      "reading_remarque : 8\n",
      "counter_coefficient : 17\n",
      "consommation_level_1 : 9516\n",
      "consommation_level_2 : 14564\n",
      "consommation_level_3 : 2597\n",
      "consommation_level_4 : 14114\n",
      "old_index : 180326\n",
      "new_index : 183299\n",
      "months_number : 2226\n",
      "counter_type : 2\n"
     ]
    }
   ],
   "source": [
    "for col in invoices.columns:\n",
    "    print(f\"{col} : {invoices[col].nunique()}\")"
   ]
  },
  {
   "cell_type": "code",
   "execution_count": 18,
   "id": "f236f005",
   "metadata": {},
   "outputs": [
    {
     "data": {
      "image/png": "[encoded data removed]",
      "text/plain": [
       "<Figure size 432x288 with 1 Axes>"
      ]
     },
     "metadata": {
      "needs_background": "light"
     },
     "output_type": "display_data"
    }
   ],
   "source": [
    "#Visualize fraudulent activities\n",
    "fraudactivities = client_train.groupby(['target'])['client_id'].count()\n",
    "plt.bar(x=fraudactivities.index, height=fraudactivities.values,\n",
    "        tick_label = [0,1], label=\"Fraudulent activities\",\n",
    "       color='green')\n",
    "plt.title('Fraud - Target Distribution')\n",
    "plt.xlabel('Fraud Categories')\n",
    "plt.ylabel('Fraud case-count')\n",
    "plt.legend()\n",
    "plt.grid(axis='y')\n",
    "plt.show()"
   ]
  },
  {
   "cell_type": "code",
   "execution_count": 19,
   "id": "b99d5d5e",
   "metadata": {},
   "outputs": [
    {
     "name": "stdout",
     "output_type": "stream",
     "text": [
      "max : 2019-12-07 00:00:00  min : 1977-06-09 00:00:00\n"
     ]
    }
   ],
   "source": [
    "print(f\"max : {invoices['invoice_date'].max()}  min : {invoices['invoice_date'].min()}\")  "
   ]
  },
  {
   "cell_type": "code",
   "execution_count": 20,
   "id": "3bb4ddc0",
   "metadata": {},
   "outputs": [],
   "source": [
    "invoices['year'] = invoices[\"invoice_date\"].dt.year\n",
    "invoices['month'] = invoices[\"invoice_date\"].dt.month"
   ]
  },
  {
   "cell_type": "code",
   "execution_count": 21,
   "id": "fc98ac85",
   "metadata": {},
   "outputs": [
    {
     "data": {
      "text/html": [
       "<div>\n",
       "<style scoped>\n",
       "    .dataframe tbody tr th:only-of-type {\n",
       "        vertical-align: middle;\n",
       "    }\n",
       "\n",
       "    .dataframe tbody tr th {\n",
       "        vertical-align: top;\n",
       "    }\n",
       "\n",
       "    .dataframe thead th {\n",
       "        text-align: right;\n",
       "    }\n",
       "</style>\n",
       "<table border=\"1\" class=\"dataframe\">\n",
       "  <thead>\n",
       "    <tr style=\"text-align: right;\">\n",
       "      <th></th>\n",
       "      <th>client_id</th>\n",
       "      <th>invoice_date</th>\n",
       "      <th>tarif_type</th>\n",
       "      <th>counter_number</th>\n",
       "      <th>counter_statue</th>\n",
       "      <th>counter_code</th>\n",
       "      <th>reading_remarque</th>\n",
       "      <th>counter_coefficient</th>\n",
       "      <th>consommation_level_1</th>\n",
       "      <th>consommation_level_2</th>\n",
       "      <th>consommation_level_3</th>\n",
       "      <th>consommation_level_4</th>\n",
       "      <th>old_index</th>\n",
       "      <th>new_index</th>\n",
       "      <th>months_number</th>\n",
       "      <th>counter_type</th>\n",
       "      <th>year</th>\n",
       "      <th>month</th>\n",
       "    </tr>\n",
       "  </thead>\n",
       "  <tbody>\n",
       "    <tr>\n",
       "      <th>0</th>\n",
       "      <td>train_Client_0</td>\n",
       "      <td>2014-03-24</td>\n",
       "      <td>11</td>\n",
       "      <td>1335667</td>\n",
       "      <td>0</td>\n",
       "      <td>203</td>\n",
       "      <td>8</td>\n",
       "      <td>1</td>\n",
       "      <td>82</td>\n",
       "      <td>0</td>\n",
       "      <td>0</td>\n",
       "      <td>0</td>\n",
       "      <td>14302</td>\n",
       "      <td>14384</td>\n",
       "      <td>4</td>\n",
       "      <td>ELEC</td>\n",
       "      <td>2014</td>\n",
       "      <td>3</td>\n",
       "    </tr>\n",
       "    <tr>\n",
       "      <th>1</th>\n",
       "      <td>train_Client_0</td>\n",
       "      <td>2013-03-29</td>\n",
       "      <td>11</td>\n",
       "      <td>1335667</td>\n",
       "      <td>0</td>\n",
       "      <td>203</td>\n",
       "      <td>6</td>\n",
       "      <td>1</td>\n",
       "      <td>1200</td>\n",
       "      <td>184</td>\n",
       "      <td>0</td>\n",
       "      <td>0</td>\n",
       "      <td>12294</td>\n",
       "      <td>13678</td>\n",
       "      <td>4</td>\n",
       "      <td>ELEC</td>\n",
       "      <td>2013</td>\n",
       "      <td>3</td>\n",
       "    </tr>\n",
       "    <tr>\n",
       "      <th>2</th>\n",
       "      <td>train_Client_0</td>\n",
       "      <td>2015-03-23</td>\n",
       "      <td>11</td>\n",
       "      <td>1335667</td>\n",
       "      <td>0</td>\n",
       "      <td>203</td>\n",
       "      <td>8</td>\n",
       "      <td>1</td>\n",
       "      <td>123</td>\n",
       "      <td>0</td>\n",
       "      <td>0</td>\n",
       "      <td>0</td>\n",
       "      <td>14624</td>\n",
       "      <td>14747</td>\n",
       "      <td>4</td>\n",
       "      <td>ELEC</td>\n",
       "      <td>2015</td>\n",
       "      <td>3</td>\n",
       "    </tr>\n",
       "  </tbody>\n",
       "</table>\n",
       "</div>"
      ],
      "text/plain": [
       "        client_id invoice_date  tarif_type  counter_number counter_statue  \\\n",
       "0  train_Client_0   2014-03-24          11         1335667              0   \n",
       "1  train_Client_0   2013-03-29          11         1335667              0   \n",
       "2  train_Client_0   2015-03-23          11         1335667              0   \n",
       "\n",
       "   counter_code  reading_remarque  counter_coefficient  consommation_level_1  \\\n",
       "0           203                 8                    1                    82   \n",
       "1           203                 6                    1                  1200   \n",
       "2           203                 8                    1                   123   \n",
       "\n",
       "   consommation_level_2  consommation_level_3  consommation_level_4  \\\n",
       "0                     0                     0                     0   \n",
       "1                   184                     0                     0   \n",
       "2                     0                     0                     0   \n",
       "\n",
       "   old_index  new_index  months_number counter_type  year  month  \n",
       "0      14302      14384              4         ELEC  2014      3  \n",
       "1      12294      13678              4         ELEC  2013      3  \n",
       "2      14624      14747              4         ELEC  2015      3  "
      ]
     },
     "execution_count": 21,
     "metadata": {},
     "output_type": "execute_result"
    }
   ],
   "source": [
    "invoices.head(3)"
   ]
  },
  {
   "cell_type": "code",
   "execution_count": null,
   "id": "324dca29",
   "metadata": {},
   "outputs": [],
   "source": []
  },
  {
   "cell_type": "code",
   "execution_count": 22,
   "id": "ee78e38e",
   "metadata": {},
   "outputs": [
    {
     "data": {
      "image/png": "[encoded data removed]",
      "text/plain": [
       "<Figure size 864x576 with 1 Axes>"
      ]
     },
     "metadata": {
      "needs_background": "light"
     },
     "output_type": "display_data"
    }
   ],
   "source": [
    "# info extraction\n",
    "year_group = invoices.groupby('year')[['consommation_level_1','consommation_level_2','consommation_level_3','consommation_level_4']].mean().reset_index()\n",
    "\n",
    "# Visualization\n",
    "fig, ax = plt.subplots(figsize=(12,8))\n",
    "ax.plot(year_group['year'], year_group['consommation_level_1'], label='consommation_level_1', linestyle='-')\n",
    "ax.plot(year_group['year'], year_group['consommation_level_2'], label='consommation_level_2', linestyle='--')\n",
    "ax.plot(year_group['year'], year_group['consommation_level_3'], label='consommation_level_3', linestyle=':')\n",
    "ax.plot(year_group['year'], year_group['consommation_level_4'], label='consommation_level_4', linestyle='-.')\n",
    "plt.legend()\n",
    "plt.xlabel(\"Years\")\n",
    "plt.ylabel(\"Average Consumption Level\")\n",
    "plt.grid()\n",
    "plt.title(\"Yearly Consumption Distribution\")\n",
    "plt.show()"
   ]
  },
  {
   "cell_type": "code",
   "execution_count": 23,
   "id": "08429f73",
   "metadata": {},
   "outputs": [
    {
     "data": {
      "image/png": "[encoded data removed]",
      "text/plain": [
       "<Figure size 864x576 with 1 Axes>"
      ]
     },
     "metadata": {
      "needs_background": "light"
     },
     "output_type": "display_data"
    }
   ],
   "source": [
    "# info extraction\n",
    "year_group = invoices.groupby('month')[['consommation_level_1','consommation_level_2','consommation_level_3','consommation_level_4']].mean().reset_index()\n",
    "\n",
    "# Visualization\n",
    "fig, ax = plt.subplots(figsize=(12,8))\n",
    "ax.plot(year_group['month'], year_group['consommation_level_1'], label='consommation_level_1', linestyle='-')\n",
    "ax.plot(year_group['month'], year_group['consommation_level_2'], label='consommation_level_2', linestyle='--')\n",
    "ax.plot(year_group['month'], year_group['consommation_level_3'], label='consommation_level_3', linestyle=':')\n",
    "ax.plot(year_group['month'], year_group['consommation_level_4'], label='consommation_level_4', linestyle='-.')\n",
    "plt.legend()\n",
    "plt.xlabel(\"Month\")\n",
    "plt.ylabel(\"Average Consumption Level\")\n",
    "plt.grid()\n",
    "plt.xticks(np.arange(1,13, step=1))\n",
    "plt.title(\"Monthly Consumption Distribution\")\n",
    "plt.show()"
   ]
  },
  {
   "cell_type": "code",
   "execution_count": 24,
   "id": "2fdf6757",
   "metadata": {},
   "outputs": [
    {
     "data": {
      "text/html": [
       "<div>\n",
       "<style scoped>\n",
       "    .dataframe tbody tr th:only-of-type {\n",
       "        vertical-align: middle;\n",
       "    }\n",
       "\n",
       "    .dataframe tbody tr th {\n",
       "        vertical-align: top;\n",
       "    }\n",
       "\n",
       "    .dataframe thead th {\n",
       "        text-align: right;\n",
       "    }\n",
       "</style>\n",
       "<table border=\"1\" class=\"dataframe\">\n",
       "  <thead>\n",
       "    <tr style=\"text-align: right;\">\n",
       "      <th></th>\n",
       "      <th>client_id</th>\n",
       "      <th>invoice_date</th>\n",
       "      <th>tarif_type</th>\n",
       "      <th>counter_number</th>\n",
       "      <th>counter_statue</th>\n",
       "      <th>counter_code</th>\n",
       "      <th>reading_remarque</th>\n",
       "      <th>counter_coefficient</th>\n",
       "      <th>consommation_level_1</th>\n",
       "      <th>consommation_level_2</th>\n",
       "      <th>consommation_level_3</th>\n",
       "      <th>consommation_level_4</th>\n",
       "      <th>old_index</th>\n",
       "      <th>new_index</th>\n",
       "      <th>months_number</th>\n",
       "      <th>counter_type</th>\n",
       "      <th>year</th>\n",
       "      <th>month</th>\n",
       "    </tr>\n",
       "  </thead>\n",
       "  <tbody>\n",
       "    <tr>\n",
       "      <th>0</th>\n",
       "      <td>train_Client_0</td>\n",
       "      <td>2014-03-24</td>\n",
       "      <td>11</td>\n",
       "      <td>1335667</td>\n",
       "      <td>0</td>\n",
       "      <td>203</td>\n",
       "      <td>8</td>\n",
       "      <td>1</td>\n",
       "      <td>82</td>\n",
       "      <td>0</td>\n",
       "      <td>0</td>\n",
       "      <td>0</td>\n",
       "      <td>14302</td>\n",
       "      <td>14384</td>\n",
       "      <td>4</td>\n",
       "      <td>ELEC</td>\n",
       "      <td>2014</td>\n",
       "      <td>3</td>\n",
       "    </tr>\n",
       "    <tr>\n",
       "      <th>1</th>\n",
       "      <td>train_Client_0</td>\n",
       "      <td>2013-03-29</td>\n",
       "      <td>11</td>\n",
       "      <td>1335667</td>\n",
       "      <td>0</td>\n",
       "      <td>203</td>\n",
       "      <td>6</td>\n",
       "      <td>1</td>\n",
       "      <td>1200</td>\n",
       "      <td>184</td>\n",
       "      <td>0</td>\n",
       "      <td>0</td>\n",
       "      <td>12294</td>\n",
       "      <td>13678</td>\n",
       "      <td>4</td>\n",
       "      <td>ELEC</td>\n",
       "      <td>2013</td>\n",
       "      <td>3</td>\n",
       "    </tr>\n",
       "    <tr>\n",
       "      <th>2</th>\n",
       "      <td>train_Client_0</td>\n",
       "      <td>2015-03-23</td>\n",
       "      <td>11</td>\n",
       "      <td>1335667</td>\n",
       "      <td>0</td>\n",
       "      <td>203</td>\n",
       "      <td>8</td>\n",
       "      <td>1</td>\n",
       "      <td>123</td>\n",
       "      <td>0</td>\n",
       "      <td>0</td>\n",
       "      <td>0</td>\n",
       "      <td>14624</td>\n",
       "      <td>14747</td>\n",
       "      <td>4</td>\n",
       "      <td>ELEC</td>\n",
       "      <td>2015</td>\n",
       "      <td>3</td>\n",
       "    </tr>\n",
       "    <tr>\n",
       "      <th>3</th>\n",
       "      <td>train_Client_0</td>\n",
       "      <td>2015-07-13</td>\n",
       "      <td>11</td>\n",
       "      <td>1335667</td>\n",
       "      <td>0</td>\n",
       "      <td>207</td>\n",
       "      <td>8</td>\n",
       "      <td>1</td>\n",
       "      <td>102</td>\n",
       "      <td>0</td>\n",
       "      <td>0</td>\n",
       "      <td>0</td>\n",
       "      <td>14747</td>\n",
       "      <td>14849</td>\n",
       "      <td>4</td>\n",
       "      <td>ELEC</td>\n",
       "      <td>2015</td>\n",
       "      <td>7</td>\n",
       "    </tr>\n",
       "    <tr>\n",
       "      <th>4</th>\n",
       "      <td>train_Client_0</td>\n",
       "      <td>2016-11-17</td>\n",
       "      <td>11</td>\n",
       "      <td>1335667</td>\n",
       "      <td>0</td>\n",
       "      <td>207</td>\n",
       "      <td>9</td>\n",
       "      <td>1</td>\n",
       "      <td>572</td>\n",
       "      <td>0</td>\n",
       "      <td>0</td>\n",
       "      <td>0</td>\n",
       "      <td>15066</td>\n",
       "      <td>15638</td>\n",
       "      <td>12</td>\n",
       "      <td>ELEC</td>\n",
       "      <td>2016</td>\n",
       "      <td>11</td>\n",
       "    </tr>\n",
       "  </tbody>\n",
       "</table>\n",
       "</div>"
      ],
      "text/plain": [
       "        client_id invoice_date  tarif_type  counter_number counter_statue  \\\n",
       "0  train_Client_0   2014-03-24          11         1335667              0   \n",
       "1  train_Client_0   2013-03-29          11         1335667              0   \n",
       "2  train_Client_0   2015-03-23          11         1335667              0   \n",
       "3  train_Client_0   2015-07-13          11         1335667              0   \n",
       "4  train_Client_0   2016-11-17          11         1335667              0   \n",
       "\n",
       "   counter_code  reading_remarque  counter_coefficient  consommation_level_1  \\\n",
       "0           203                 8                    1                    82   \n",
       "1           203                 6                    1                  1200   \n",
       "2           203                 8                    1                   123   \n",
       "3           207                 8                    1                   102   \n",
       "4           207                 9                    1                   572   \n",
       "\n",
       "   consommation_level_2  consommation_level_3  consommation_level_4  \\\n",
       "0                     0                     0                     0   \n",
       "1                   184                     0                     0   \n",
       "2                     0                     0                     0   \n",
       "3                     0                     0                     0   \n",
       "4                     0                     0                     0   \n",
       "\n",
       "   old_index  new_index  months_number counter_type  year  month  \n",
       "0      14302      14384              4         ELEC  2014      3  \n",
       "1      12294      13678              4         ELEC  2013      3  \n",
       "2      14624      14747              4         ELEC  2015      3  \n",
       "3      14747      14849              4         ELEC  2015      7  \n",
       "4      15066      15638             12         ELEC  2016     11  "
      ]
     },
     "execution_count": 24,
     "metadata": {},
     "output_type": "execute_result"
    }
   ],
   "source": [
    "invoices.head()"
   ]
  },
  {
   "cell_type": "markdown",
   "id": "4eaf1241-b949-4038-a279-dda8c1576dc7",
   "metadata": {
    "tags": []
   },
   "source": [
    "<h1 style=\"font-size:4rem;color:blue;\">Feature Engineering</h1>"
   ]
  },
  {
   "cell_type": "code",
   "execution_count": 25,
   "id": "6531d9c6",
   "metadata": {},
   "outputs": [],
   "source": [
    "#encode labels in categorical column\n",
    "col={\"ELEC\":0,\"GAZ\":1}\n",
    "invoices['counter_type']=invoices['counter_type'].map(col)"
   ]
  },
  {
   "cell_type": "markdown",
   "id": "c58688fe-8435-4316-a346-63ec27044dbc",
   "metadata": {},
   "source": [
    "Using dataframefunction.loc[] we can manipulate values in rows "
   ]
  },
  {
   "cell_type": "code",
   "execution_count": 26,
   "id": "4ca0a3ad-b1d7-44d0-87b9-75a8f41f9f64",
   "metadata": {},
   "outputs": [],
   "source": [
    "# replacing srtrings values with numerical entries\n",
    "\n",
    "#invoices.loc[ invoices['counter_statue'] == 'A', 'counter_statue'] = 0"
   ]
  },
  {
   "cell_type": "code",
   "execution_count": 27,
   "id": "025d7e6d",
   "metadata": {},
   "outputs": [],
   "source": [
    "features = invoices.drop(labels = [\"client_id\",\"invoice_date\"], axis=1).columns"
   ]
  },
  {
   "cell_type": "code",
   "execution_count": 28,
   "id": "d831c79f",
   "metadata": {},
   "outputs": [],
   "source": [
    "invoices['counter_statue'] = invoices['counter_statue'].replace({'A':0, '0':0})"
   ]
  },
  {
   "cell_type": "code",
   "execution_count": 29,
   "id": "51b2bb80",
   "metadata": {
    "scrolled": true
   },
   "outputs": [
    {
     "data": {
      "text/plain": [
       "Index(['tarif_type', 'counter_number', 'counter_statue', 'counter_code',\n",
       "       'reading_remarque', 'counter_coefficient', 'consommation_level_1',\n",
       "       'consommation_level_2', 'consommation_level_3', 'consommation_level_4',\n",
       "       'old_index', 'new_index', 'months_number', 'counter_type', 'year',\n",
       "       'month'],\n",
       "      dtype='object')"
      ]
     },
     "execution_count": 29,
     "metadata": {},
     "output_type": "execute_result"
    }
   ],
   "source": [
    "features"
   ]
  },
  {
   "cell_type": "code",
   "execution_count": 30,
   "id": "a7831bef-0d35-4fc4-b86c-4f317f040709",
   "metadata": {},
   "outputs": [],
   "source": [
    "for k in features:\n",
    "    invoices[k].astype(int)"
   ]
  },
  {
   "cell_type": "code",
   "execution_count": 31,
   "id": "58b10f22-d136-4eba-b03d-6c8a8b791052",
   "metadata": {},
   "outputs": [],
   "source": [
    "invoices_group = invoices.groupby('client_id').mean()"
   ]
  },
  {
   "cell_type": "code",
   "execution_count": 32,
   "id": "5f8a4c62-1506-43a0-8147-dacfa5dd2723",
   "metadata": {},
   "outputs": [
    {
     "data": {
      "text/html": [
       "<div>\n",
       "<style scoped>\n",
       "    .dataframe tbody tr th:only-of-type {\n",
       "        vertical-align: middle;\n",
       "    }\n",
       "\n",
       "    .dataframe tbody tr th {\n",
       "        vertical-align: top;\n",
       "    }\n",
       "\n",
       "    .dataframe thead th {\n",
       "        text-align: right;\n",
       "    }\n",
       "</style>\n",
       "<table border=\"1\" class=\"dataframe\">\n",
       "  <thead>\n",
       "    <tr style=\"text-align: right;\">\n",
       "      <th></th>\n",
       "      <th>tarif_type</th>\n",
       "      <th>counter_number</th>\n",
       "      <th>counter_code</th>\n",
       "      <th>reading_remarque</th>\n",
       "      <th>counter_coefficient</th>\n",
       "      <th>consommation_level_1</th>\n",
       "      <th>consommation_level_2</th>\n",
       "      <th>consommation_level_3</th>\n",
       "      <th>consommation_level_4</th>\n",
       "      <th>old_index</th>\n",
       "      <th>new_index</th>\n",
       "      <th>months_number</th>\n",
       "      <th>counter_type</th>\n",
       "      <th>year</th>\n",
       "      <th>month</th>\n",
       "    </tr>\n",
       "    <tr>\n",
       "      <th>client_id</th>\n",
       "      <th></th>\n",
       "      <th></th>\n",
       "      <th></th>\n",
       "      <th></th>\n",
       "      <th></th>\n",
       "      <th></th>\n",
       "      <th></th>\n",
       "      <th></th>\n",
       "      <th></th>\n",
       "      <th></th>\n",
       "      <th></th>\n",
       "      <th></th>\n",
       "      <th></th>\n",
       "      <th></th>\n",
       "      <th></th>\n",
       "    </tr>\n",
       "  </thead>\n",
       "  <tbody>\n",
       "    <tr>\n",
       "      <th>test_Client_0</th>\n",
       "      <td>11.000000</td>\n",
       "      <td>6.512080e+05</td>\n",
       "      <td>203.000000</td>\n",
       "      <td>6.810811</td>\n",
       "      <td>1.0</td>\n",
       "      <td>488.135135</td>\n",
       "      <td>3.243243</td>\n",
       "      <td>0.000000</td>\n",
       "      <td>0.000000</td>\n",
       "      <td>11389.837838</td>\n",
       "      <td>11881.216216</td>\n",
       "      <td>4.378378</td>\n",
       "      <td>0.000000</td>\n",
       "      <td>2011.648649</td>\n",
       "      <td>6.837838</td>\n",
       "    </tr>\n",
       "    <tr>\n",
       "      <th>test_Client_1</th>\n",
       "      <td>11.000000</td>\n",
       "      <td>1.747600e+05</td>\n",
       "      <td>433.000000</td>\n",
       "      <td>7.636364</td>\n",
       "      <td>1.0</td>\n",
       "      <td>1091.409091</td>\n",
       "      <td>843.136364</td>\n",
       "      <td>182.318182</td>\n",
       "      <td>586.318182</td>\n",
       "      <td>29380.772727</td>\n",
       "      <td>32083.954545</td>\n",
       "      <td>4.545455</td>\n",
       "      <td>0.000000</td>\n",
       "      <td>2014.136364</td>\n",
       "      <td>6.181818</td>\n",
       "    </tr>\n",
       "    <tr>\n",
       "      <th>test_Client_10</th>\n",
       "      <td>23.540541</td>\n",
       "      <td>3.468089e+06</td>\n",
       "      <td>119.648649</td>\n",
       "      <td>7.459459</td>\n",
       "      <td>1.0</td>\n",
       "      <td>554.040541</td>\n",
       "      <td>37.364865</td>\n",
       "      <td>15.743243</td>\n",
       "      <td>0.162162</td>\n",
       "      <td>11774.054054</td>\n",
       "      <td>12381.364865</td>\n",
       "      <td>4.000000</td>\n",
       "      <td>0.432432</td>\n",
       "      <td>2012.891892</td>\n",
       "      <td>7.986486</td>\n",
       "    </tr>\n",
       "    <tr>\n",
       "      <th>test_Client_100</th>\n",
       "      <td>25.500000</td>\n",
       "      <td>5.866505e+05</td>\n",
       "      <td>104.000000</td>\n",
       "      <td>6.575000</td>\n",
       "      <td>1.0</td>\n",
       "      <td>244.350000</td>\n",
       "      <td>0.000000</td>\n",
       "      <td>0.000000</td>\n",
       "      <td>0.000000</td>\n",
       "      <td>13623.725000</td>\n",
       "      <td>13868.075000</td>\n",
       "      <td>3.900000</td>\n",
       "      <td>0.500000</td>\n",
       "      <td>2008.450000</td>\n",
       "      <td>5.700000</td>\n",
       "    </tr>\n",
       "    <tr>\n",
       "      <th>test_Client_1000</th>\n",
       "      <td>20.849057</td>\n",
       "      <td>1.614115e+06</td>\n",
       "      <td>135.754717</td>\n",
       "      <td>7.905660</td>\n",
       "      <td>1.0</td>\n",
       "      <td>568.188679</td>\n",
       "      <td>145.056604</td>\n",
       "      <td>33.679245</td>\n",
       "      <td>0.000000</td>\n",
       "      <td>13927.471698</td>\n",
       "      <td>14676.584906</td>\n",
       "      <td>4.528302</td>\n",
       "      <td>0.339623</td>\n",
       "      <td>2012.622642</td>\n",
       "      <td>7.320755</td>\n",
       "    </tr>\n",
       "    <tr>\n",
       "      <th>...</th>\n",
       "      <td>...</td>\n",
       "      <td>...</td>\n",
       "      <td>...</td>\n",
       "      <td>...</td>\n",
       "      <td>...</td>\n",
       "      <td>...</td>\n",
       "      <td>...</td>\n",
       "      <td>...</td>\n",
       "      <td>...</td>\n",
       "      <td>...</td>\n",
       "      <td>...</td>\n",
       "      <td>...</td>\n",
       "      <td>...</td>\n",
       "      <td>...</td>\n",
       "      <td>...</td>\n",
       "    </tr>\n",
       "    <tr>\n",
       "      <th>train_Client_99995</th>\n",
       "      <td>24.887324</td>\n",
       "      <td>5.423355e+05</td>\n",
       "      <td>110.267606</td>\n",
       "      <td>6.000000</td>\n",
       "      <td>1.0</td>\n",
       "      <td>1.957746</td>\n",
       "      <td>0.000000</td>\n",
       "      <td>0.000000</td>\n",
       "      <td>0.000000</td>\n",
       "      <td>7.295775</td>\n",
       "      <td>7.295775</td>\n",
       "      <td>4.225352</td>\n",
       "      <td>0.478873</td>\n",
       "      <td>2012.563380</td>\n",
       "      <td>6.042254</td>\n",
       "    </tr>\n",
       "    <tr>\n",
       "      <th>train_Client_99996</th>\n",
       "      <td>25.853659</td>\n",
       "      <td>1.837554e+06</td>\n",
       "      <td>103.536585</td>\n",
       "      <td>8.487805</td>\n",
       "      <td>1.0</td>\n",
       "      <td>185.853659</td>\n",
       "      <td>0.756098</td>\n",
       "      <td>0.000000</td>\n",
       "      <td>0.000000</td>\n",
       "      <td>1216.780488</td>\n",
       "      <td>1403.390244</td>\n",
       "      <td>3.902439</td>\n",
       "      <td>0.512195</td>\n",
       "      <td>2015.829268</td>\n",
       "      <td>6.048780</td>\n",
       "    </tr>\n",
       "    <tr>\n",
       "      <th>train_Client_99997</th>\n",
       "      <td>22.277778</td>\n",
       "      <td>1.602303e+05</td>\n",
       "      <td>128.444444</td>\n",
       "      <td>9.000000</td>\n",
       "      <td>1.0</td>\n",
       "      <td>273.083333</td>\n",
       "      <td>0.000000</td>\n",
       "      <td>0.000000</td>\n",
       "      <td>0.000000</td>\n",
       "      <td>2533.388889</td>\n",
       "      <td>2806.472222</td>\n",
       "      <td>4.111111</td>\n",
       "      <td>0.388889</td>\n",
       "      <td>2014.694444</td>\n",
       "      <td>6.888889</td>\n",
       "    </tr>\n",
       "    <tr>\n",
       "      <th>train_Client_99998</th>\n",
       "      <td>10.000000</td>\n",
       "      <td>1.253571e+06</td>\n",
       "      <td>202.000000</td>\n",
       "      <td>7.500000</td>\n",
       "      <td>1.0</td>\n",
       "      <td>300.000000</td>\n",
       "      <td>70.500000</td>\n",
       "      <td>0.000000</td>\n",
       "      <td>0.000000</td>\n",
       "      <td>3464.500000</td>\n",
       "      <td>3835.000000</td>\n",
       "      <td>6.000000</td>\n",
       "      <td>0.000000</td>\n",
       "      <td>2005.000000</td>\n",
       "      <td>10.000000</td>\n",
       "    </tr>\n",
       "    <tr>\n",
       "      <th>train_Client_99999</th>\n",
       "      <td>11.000000</td>\n",
       "      <td>5.609480e+05</td>\n",
       "      <td>203.000000</td>\n",
       "      <td>6.000000</td>\n",
       "      <td>1.0</td>\n",
       "      <td>459.333333</td>\n",
       "      <td>0.000000</td>\n",
       "      <td>0.000000</td>\n",
       "      <td>0.000000</td>\n",
       "      <td>13310.000000</td>\n",
       "      <td>13769.333333</td>\n",
       "      <td>4.000000</td>\n",
       "      <td>0.000000</td>\n",
       "      <td>1996.000000</td>\n",
       "      <td>5.000000</td>\n",
       "    </tr>\n",
       "  </tbody>\n",
       "</table>\n",
       "<p>193562 rows × 15 columns</p>\n",
       "</div>"
      ],
      "text/plain": [
       "                    tarif_type  counter_number  counter_code  \\\n",
       "client_id                                                      \n",
       "test_Client_0        11.000000    6.512080e+05    203.000000   \n",
       "test_Client_1        11.000000    1.747600e+05    433.000000   \n",
       "test_Client_10       23.540541    3.468089e+06    119.648649   \n",
       "test_Client_100      25.500000    5.866505e+05    104.000000   \n",
       "test_Client_1000     20.849057    1.614115e+06    135.754717   \n",
       "...                        ...             ...           ...   \n",
       "train_Client_99995   24.887324    5.423355e+05    110.267606   \n",
       "train_Client_99996   25.853659    1.837554e+06    103.536585   \n",
       "train_Client_99997   22.277778    1.602303e+05    128.444444   \n",
       "train_Client_99998   10.000000    1.253571e+06    202.000000   \n",
       "train_Client_99999   11.000000    5.609480e+05    203.000000   \n",
       "\n",
       "                    reading_remarque  counter_coefficient  \\\n",
       "client_id                                                   \n",
       "test_Client_0               6.810811                  1.0   \n",
       "test_Client_1               7.636364                  1.0   \n",
       "test_Client_10              7.459459                  1.0   \n",
       "test_Client_100             6.575000                  1.0   \n",
       "test_Client_1000            7.905660                  1.0   \n",
       "...                              ...                  ...   \n",
       "train_Client_99995          6.000000                  1.0   \n",
       "train_Client_99996          8.487805                  1.0   \n",
       "train_Client_99997          9.000000                  1.0   \n",
       "train_Client_99998          7.500000                  1.0   \n",
       "train_Client_99999          6.000000                  1.0   \n",
       "\n",
       "                    consommation_level_1  consommation_level_2  \\\n",
       "client_id                                                        \n",
       "test_Client_0                 488.135135              3.243243   \n",
       "test_Client_1                1091.409091            843.136364   \n",
       "test_Client_10                554.040541             37.364865   \n",
       "test_Client_100               244.350000              0.000000   \n",
       "test_Client_1000              568.188679            145.056604   \n",
       "...                                  ...                   ...   \n",
       "train_Client_99995              1.957746              0.000000   \n",
       "train_Client_99996            185.853659              0.756098   \n",
       "train_Client_99997            273.083333              0.000000   \n",
       "train_Client_99998            300.000000             70.500000   \n",
       "train_Client_99999            459.333333              0.000000   \n",
       "\n",
       "                    consommation_level_3  consommation_level_4     old_index  \\\n",
       "client_id                                                                      \n",
       "test_Client_0                   0.000000              0.000000  11389.837838   \n",
       "test_Client_1                 182.318182            586.318182  29380.772727   \n",
       "test_Client_10                 15.743243              0.162162  11774.054054   \n",
       "test_Client_100                 0.000000              0.000000  13623.725000   \n",
       "test_Client_1000               33.679245              0.000000  13927.471698   \n",
       "...                                  ...                   ...           ...   \n",
       "train_Client_99995              0.000000              0.000000      7.295775   \n",
       "train_Client_99996              0.000000              0.000000   1216.780488   \n",
       "train_Client_99997              0.000000              0.000000   2533.388889   \n",
       "train_Client_99998              0.000000              0.000000   3464.500000   \n",
       "train_Client_99999              0.000000              0.000000  13310.000000   \n",
       "\n",
       "                       new_index  months_number  counter_type         year  \\\n",
       "client_id                                                                    \n",
       "test_Client_0       11881.216216       4.378378      0.000000  2011.648649   \n",
       "test_Client_1       32083.954545       4.545455      0.000000  2014.136364   \n",
       "test_Client_10      12381.364865       4.000000      0.432432  2012.891892   \n",
       "test_Client_100     13868.075000       3.900000      0.500000  2008.450000   \n",
       "test_Client_1000    14676.584906       4.528302      0.339623  2012.622642   \n",
       "...                          ...            ...           ...          ...   \n",
       "train_Client_99995      7.295775       4.225352      0.478873  2012.563380   \n",
       "train_Client_99996   1403.390244       3.902439      0.512195  2015.829268   \n",
       "train_Client_99997   2806.472222       4.111111      0.388889  2014.694444   \n",
       "train_Client_99998   3835.000000       6.000000      0.000000  2005.000000   \n",
       "train_Client_99999  13769.333333       4.000000      0.000000  1996.000000   \n",
       "\n",
       "                        month  \n",
       "client_id                      \n",
       "test_Client_0        6.837838  \n",
       "test_Client_1        6.181818  \n",
       "test_Client_10       7.986486  \n",
       "test_Client_100      5.700000  \n",
       "test_Client_1000     7.320755  \n",
       "...                       ...  \n",
       "train_Client_99995   6.042254  \n",
       "train_Client_99996   6.048780  \n",
       "train_Client_99997   6.888889  \n",
       "train_Client_99998  10.000000  \n",
       "train_Client_99999   5.000000  \n",
       "\n",
       "[193562 rows x 15 columns]"
      ]
     },
     "execution_count": 32,
     "metadata": {},
     "output_type": "execute_result"
    }
   ],
   "source": [
    "invoices_group"
   ]
  },
  {
   "cell_type": "code",
   "execution_count": 33,
   "id": "a40d0843-f5ea-4c84-82b1-10614cdd0e11",
   "metadata": {},
   "outputs": [],
   "source": [
    "df_train_invoices = invoices.iloc[0:invoice_train.shape[0]]"
   ]
  },
  {
   "cell_type": "code",
   "execution_count": 34,
   "id": "a49e6fc1-4217-4c81-9359-1be968d4dace",
   "metadata": {},
   "outputs": [
    {
     "data": {
      "text/html": [
       "<div>\n",
       "<style scoped>\n",
       "    .dataframe tbody tr th:only-of-type {\n",
       "        vertical-align: middle;\n",
       "    }\n",
       "\n",
       "    .dataframe tbody tr th {\n",
       "        vertical-align: top;\n",
       "    }\n",
       "\n",
       "    .dataframe thead th {\n",
       "        text-align: right;\n",
       "    }\n",
       "</style>\n",
       "<table border=\"1\" class=\"dataframe\">\n",
       "  <thead>\n",
       "    <tr style=\"text-align: right;\">\n",
       "      <th></th>\n",
       "      <th>client_id</th>\n",
       "      <th>invoice_date</th>\n",
       "      <th>tarif_type</th>\n",
       "      <th>counter_number</th>\n",
       "      <th>counter_statue</th>\n",
       "      <th>counter_code</th>\n",
       "      <th>reading_remarque</th>\n",
       "      <th>counter_coefficient</th>\n",
       "      <th>consommation_level_1</th>\n",
       "      <th>consommation_level_2</th>\n",
       "      <th>consommation_level_3</th>\n",
       "      <th>consommation_level_4</th>\n",
       "      <th>old_index</th>\n",
       "      <th>new_index</th>\n",
       "      <th>months_number</th>\n",
       "      <th>counter_type</th>\n",
       "      <th>year</th>\n",
       "      <th>month</th>\n",
       "    </tr>\n",
       "  </thead>\n",
       "  <tbody>\n",
       "    <tr>\n",
       "      <th>0</th>\n",
       "      <td>train_Client_0</td>\n",
       "      <td>2014-03-24</td>\n",
       "      <td>11</td>\n",
       "      <td>1335667</td>\n",
       "      <td>0</td>\n",
       "      <td>203</td>\n",
       "      <td>8</td>\n",
       "      <td>1</td>\n",
       "      <td>82</td>\n",
       "      <td>0</td>\n",
       "      <td>0</td>\n",
       "      <td>0</td>\n",
       "      <td>14302</td>\n",
       "      <td>14384</td>\n",
       "      <td>4</td>\n",
       "      <td>0</td>\n",
       "      <td>2014</td>\n",
       "      <td>3</td>\n",
       "    </tr>\n",
       "    <tr>\n",
       "      <th>1</th>\n",
       "      <td>train_Client_0</td>\n",
       "      <td>2013-03-29</td>\n",
       "      <td>11</td>\n",
       "      <td>1335667</td>\n",
       "      <td>0</td>\n",
       "      <td>203</td>\n",
       "      <td>6</td>\n",
       "      <td>1</td>\n",
       "      <td>1200</td>\n",
       "      <td>184</td>\n",
       "      <td>0</td>\n",
       "      <td>0</td>\n",
       "      <td>12294</td>\n",
       "      <td>13678</td>\n",
       "      <td>4</td>\n",
       "      <td>0</td>\n",
       "      <td>2013</td>\n",
       "      <td>3</td>\n",
       "    </tr>\n",
       "    <tr>\n",
       "      <th>2</th>\n",
       "      <td>train_Client_0</td>\n",
       "      <td>2015-03-23</td>\n",
       "      <td>11</td>\n",
       "      <td>1335667</td>\n",
       "      <td>0</td>\n",
       "      <td>203</td>\n",
       "      <td>8</td>\n",
       "      <td>1</td>\n",
       "      <td>123</td>\n",
       "      <td>0</td>\n",
       "      <td>0</td>\n",
       "      <td>0</td>\n",
       "      <td>14624</td>\n",
       "      <td>14747</td>\n",
       "      <td>4</td>\n",
       "      <td>0</td>\n",
       "      <td>2015</td>\n",
       "      <td>3</td>\n",
       "    </tr>\n",
       "  </tbody>\n",
       "</table>\n",
       "</div>"
      ],
      "text/plain": [
       "        client_id invoice_date  tarif_type  counter_number counter_statue  \\\n",
       "0  train_Client_0   2014-03-24          11         1335667              0   \n",
       "1  train_Client_0   2013-03-29          11         1335667              0   \n",
       "2  train_Client_0   2015-03-23          11         1335667              0   \n",
       "\n",
       "   counter_code  reading_remarque  counter_coefficient  consommation_level_1  \\\n",
       "0           203                 8                    1                    82   \n",
       "1           203                 6                    1                  1200   \n",
       "2           203                 8                    1                   123   \n",
       "\n",
       "   consommation_level_2  consommation_level_3  consommation_level_4  \\\n",
       "0                     0                     0                     0   \n",
       "1                   184                     0                     0   \n",
       "2                     0                     0                     0   \n",
       "\n",
       "   old_index  new_index  months_number  counter_type  year  month  \n",
       "0      14302      14384              4             0  2014      3  \n",
       "1      12294      13678              4             0  2013      3  \n",
       "2      14624      14747              4             0  2015      3  "
      ]
     },
     "execution_count": 34,
     "metadata": {},
     "output_type": "execute_result"
    }
   ],
   "source": [
    "df_train_invoices.head(3)"
   ]
  },
  {
   "cell_type": "code",
   "execution_count": 35,
   "id": "31a9af99",
   "metadata": {
    "scrolled": false
   },
   "outputs": [],
   "source": [
    "#merging the tran dataset\n",
    "\n",
    "df_train_invoices_group = df_train_invoices.groupby('client_id').mean()\n",
    "df_train_invoices_merge = pd.merge(df_train_invoices_group, client_train, on = 'client_id')\n",
    "#df_train_invoices_group.head(2)"
   ]
  },
  {
   "cell_type": "markdown",
   "id": "bb88ef08",
   "metadata": {},
   "source": [
    "### Saving train dataset"
   ]
  },
  {
   "cell_type": "code",
   "execution_count": 36,
   "id": "a56338e3",
   "metadata": {},
   "outputs": [],
   "source": [
    "df_train_invoices_merge.drop('creation_date', axis=1)\n",
    "df_train_invoices_merge.to_csv('train_dataset.csv', index=False)"
   ]
  },
  {
   "cell_type": "markdown",
   "id": "e9c91a34",
   "metadata": {},
   "source": [
    "####  correlation factor"
   ]
  },
  {
   "cell_type": "code",
   "execution_count": 37,
   "id": "9ca34835",
   "metadata": {},
   "outputs": [],
   "source": [
    "correlation = df_train_invoices_merge.corr()\n",
    "correlation_target = correlation.sort_values('target')['target'].reset_index()"
   ]
  },
  {
   "cell_type": "code",
   "execution_count": 38,
   "id": "e8301b15",
   "metadata": {},
   "outputs": [
    {
     "data": {
      "text/html": [
       "<div>\n",
       "<style scoped>\n",
       "    .dataframe tbody tr th:only-of-type {\n",
       "        vertical-align: middle;\n",
       "    }\n",
       "\n",
       "    .dataframe tbody tr th {\n",
       "        vertical-align: top;\n",
       "    }\n",
       "\n",
       "    .dataframe thead th {\n",
       "        text-align: right;\n",
       "    }\n",
       "</style>\n",
       "<table border=\"1\" class=\"dataframe\">\n",
       "  <thead>\n",
       "    <tr style=\"text-align: right;\">\n",
       "      <th></th>\n",
       "      <th>index</th>\n",
       "      <th>target</th>\n",
       "    </tr>\n",
       "  </thead>\n",
       "  <tbody>\n",
       "    <tr>\n",
       "      <th>0</th>\n",
       "      <td>counter_code</td>\n",
       "      <td>-0.028985</td>\n",
       "    </tr>\n",
       "    <tr>\n",
       "      <th>1</th>\n",
       "      <td>counter_number</td>\n",
       "      <td>-0.018917</td>\n",
       "    </tr>\n",
       "    <tr>\n",
       "      <th>2</th>\n",
       "      <td>month</td>\n",
       "      <td>-0.015813</td>\n",
       "    </tr>\n",
       "    <tr>\n",
       "      <th>3</th>\n",
       "      <td>counter_coefficient</td>\n",
       "      <td>-0.001820</td>\n",
       "    </tr>\n",
       "    <tr>\n",
       "      <th>4</th>\n",
       "      <td>months_number</td>\n",
       "      <td>0.000881</td>\n",
       "    </tr>\n",
       "    <tr>\n",
       "      <th>5</th>\n",
       "      <td>consommation_level_1</td>\n",
       "      <td>0.005861</td>\n",
       "    </tr>\n",
       "    <tr>\n",
       "      <th>6</th>\n",
       "      <td>consommation_level_2</td>\n",
       "      <td>0.009712</td>\n",
       "    </tr>\n",
       "    <tr>\n",
       "      <th>7</th>\n",
       "      <td>region</td>\n",
       "      <td>0.010940</td>\n",
       "    </tr>\n",
       "    <tr>\n",
       "      <th>8</th>\n",
       "      <td>reading_remarque</td>\n",
       "      <td>0.010962</td>\n",
       "    </tr>\n",
       "    <tr>\n",
       "      <th>9</th>\n",
       "      <td>consommation_level_4</td>\n",
       "      <td>0.015081</td>\n",
       "    </tr>\n",
       "    <tr>\n",
       "      <th>10</th>\n",
       "      <td>consommation_level_3</td>\n",
       "      <td>0.031021</td>\n",
       "    </tr>\n",
       "    <tr>\n",
       "      <th>11</th>\n",
       "      <td>year</td>\n",
       "      <td>0.034759</td>\n",
       "    </tr>\n",
       "    <tr>\n",
       "      <th>12</th>\n",
       "      <td>new_index</td>\n",
       "      <td>0.040142</td>\n",
       "    </tr>\n",
       "    <tr>\n",
       "      <th>13</th>\n",
       "      <td>old_index</td>\n",
       "      <td>0.040202</td>\n",
       "    </tr>\n",
       "    <tr>\n",
       "      <th>14</th>\n",
       "      <td>disrict</td>\n",
       "      <td>0.050749</td>\n",
       "    </tr>\n",
       "    <tr>\n",
       "      <th>15</th>\n",
       "      <td>counter_type</td>\n",
       "      <td>0.053799</td>\n",
       "    </tr>\n",
       "    <tr>\n",
       "      <th>16</th>\n",
       "      <td>tarif_type</td>\n",
       "      <td>0.054411</td>\n",
       "    </tr>\n",
       "    <tr>\n",
       "      <th>17</th>\n",
       "      <td>client_catg</td>\n",
       "      <td>0.054745</td>\n",
       "    </tr>\n",
       "    <tr>\n",
       "      <th>18</th>\n",
       "      <td>target</td>\n",
       "      <td>1.000000</td>\n",
       "    </tr>\n",
       "  </tbody>\n",
       "</table>\n",
       "</div>"
      ],
      "text/plain": [
       "                   index    target\n",
       "0           counter_code -0.028985\n",
       "1         counter_number -0.018917\n",
       "2                  month -0.015813\n",
       "3    counter_coefficient -0.001820\n",
       "4          months_number  0.000881\n",
       "5   consommation_level_1  0.005861\n",
       "6   consommation_level_2  0.009712\n",
       "7                 region  0.010940\n",
       "8       reading_remarque  0.010962\n",
       "9   consommation_level_4  0.015081\n",
       "10  consommation_level_3  0.031021\n",
       "11                  year  0.034759\n",
       "12             new_index  0.040142\n",
       "13             old_index  0.040202\n",
       "14               disrict  0.050749\n",
       "15          counter_type  0.053799\n",
       "16            tarif_type  0.054411\n",
       "17           client_catg  0.054745\n",
       "18                target  1.000000"
      ]
     },
     "execution_count": 38,
     "metadata": {},
     "output_type": "execute_result"
    }
   ],
   "source": [
    "correlation_target"
   ]
  },
  {
   "cell_type": "code",
   "execution_count": 39,
   "id": "57c5efdf",
   "metadata": {},
   "outputs": [
    {
     "name": "stdout",
     "output_type": "stream",
     "text": [
      "['months_number' 'consommation_level_1' 'consommation_level_2' 'region'\n",
      " 'reading_remarque' 'consommation_level_4' 'consommation_level_3' 'year'\n",
      " 'new_index' 'old_index' 'disrict' 'counter_type' 'tarif_type'\n",
      " 'client_catg' 'target']\n"
     ]
    }
   ],
   "source": [
    "# setting a correlation threshold of 0\n",
    "\n",
    "high_correlation_target = correlation_target[correlation_target['target'] > 0] \n",
    "high_features = high_correlation_target['index'].values\n",
    "print(high_features)"
   ]
  },
  {
   "cell_type": "code",
   "execution_count": 40,
   "id": "66ecde60",
   "metadata": {},
   "outputs": [],
   "source": [
    "df_train = df_train_invoices_merge[high_features]"
   ]
  },
  {
   "cell_type": "code",
   "execution_count": 41,
   "id": "dd04f234",
   "metadata": {},
   "outputs": [],
   "source": [
    "#df_train.head(3)"
   ]
  },
  {
   "cell_type": "code",
   "execution_count": 42,
   "id": "1f668398",
   "metadata": {},
   "outputs": [],
   "source": [
    "# features to be used in test dataset\n",
    "\n",
    "test_features  = df_train.drop('target', axis=1).columns"
   ]
  },
  {
   "cell_type": "code",
   "execution_count": 43,
   "id": "e8178a4b-cb74-48f0-998a-139ec8c177fd",
   "metadata": {},
   "outputs": [],
   "source": [
    "# extracting test dataset\n",
    "df_test_invoices = invoices.iloc[invoice_train.shape[0]:]\n",
    "\n",
    "# merging client and invoice datasets\n",
    "df_test_invoices_group = df_test_invoices.groupby('client_id').mean()\n",
    "df_test_invoices_merge = pd.merge(df_test_invoices_group, client_test, on = 'client_id')\n",
    "\n",
    "# final test dataset\n",
    "df_test = df_test_invoices_merge[test_features]"
   ]
  },
  {
   "cell_type": "markdown",
   "id": "0982e6e8",
   "metadata": {},
   "source": [
    "### Saving Test dataset"
   ]
  },
  {
   "cell_type": "code",
   "execution_count": 44,
   "id": "9bc0c86f",
   "metadata": {},
   "outputs": [],
   "source": [
    "df_test_invoices_merge.drop('creation_date', axis=1)\n",
    "df_test_invoices_merge.to_csv('test_dataset.csv', index=False)"
   ]
  },
  {
   "cell_type": "code",
   "execution_count": 45,
   "id": "ae464b16",
   "metadata": {},
   "outputs": [
    {
     "data": {
      "text/plain": [
       "(58069, 14)"
      ]
     },
     "execution_count": 45,
     "metadata": {},
     "output_type": "execute_result"
    }
   ],
   "source": [
    "df_test.shape"
   ]
  },
  {
   "cell_type": "markdown",
   "id": "50ac530b",
   "metadata": {},
   "source": [
    "# MODELING"
   ]
  },
  {
   "cell_type": "markdown",
   "id": "fc3c186c",
   "metadata": {},
   "source": [
    "<h1 style=\"font-size:3.5rem;color:gray;\">Train Test Split</h1>"
   ]
  },
  {
   "cell_type": "code",
   "execution_count": 46,
   "id": "8cd781ee",
   "metadata": {},
   "outputs": [],
   "source": [
    "import pandas as pd\n",
    "\n",
    "df_train_fs = pd.read_csv('train_dataset.csv')\n",
    "df_test_fs = pd.read_csv('test_dataset.csv')"
   ]
  },
  {
   "cell_type": "code",
   "execution_count": 47,
   "id": "1e726c2b-382c-4d8e-8ac9-ad30c555b9b1",
   "metadata": {},
   "outputs": [],
   "source": [
    "X = df_train.drop('target', axis=1)\n",
    "y = df_train['target']"
   ]
  },
  {
   "cell_type": "code",
   "execution_count": 48,
   "id": "c72c15e8",
   "metadata": {},
   "outputs": [
    {
     "data": {
      "text/plain": [
       "((108394, 14), (27099, 14), (108394,), (27099,))"
      ]
     },
     "execution_count": 48,
     "metadata": {},
     "output_type": "execute_result"
    }
   ],
   "source": [
    "from sklearn.model_selection import train_test_split\n",
    "\n",
    "X_train, X_test, y_train, y_test  = train_test_split(X,y, stratify=y ,test_size=0.2, random_state=42)\n",
    "X_train.shape, X_test.shape, y_train.shape, y_test.shape"
   ]
  },
  {
   "cell_type": "code",
   "execution_count": 49,
   "id": "aaae31c6",
   "metadata": {},
   "outputs": [],
   "source": [
    "# handling outliers\n",
    "import scipy.stats as stats\n",
    "\n",
    "X_train = np.abs(stats.zscore(X_train))\n",
    "X_test = np.abs(stats.zscore(X_test))\n",
    "df_test_fs = np.abs(stats.zscore(df_test))"
   ]
  },
  {
   "cell_type": "code",
   "execution_count": 50,
   "id": "34bb3316",
   "metadata": {},
   "outputs": [],
   "source": [
    "# Normalization\n",
    "from sklearn.preprocessing import MinMaxScaler,StandardScaler\n",
    "\n",
    "standard_scaler = StandardScaler()\n",
    "for k in X_train.columns:\n",
    "    standard_scaler.fit_transform(X_train[[k]])\n",
    "    \n",
    "for k in X_test.columns:\n",
    "    standard_scaler.fit_transform(X_test[[k]])\n",
    "\n",
    "\n",
    "for k in df_test_fs.columns:\n",
    "    standard_scaler.fit_transform(df_test[[k]])"
   ]
  },
  {
   "cell_type": "code",
   "execution_count": 51,
   "id": "9cfd6704",
   "metadata": {},
   "outputs": [
    {
     "name": "stdout",
     "output_type": "stream",
     "text": [
      "Recall: 32.25\n",
      "Precision: 8.52\n",
      "F1-Score: 13.4732\n",
      "Accuracy score: 76.87\n",
      "AUC Score: 55.88\n",
      "CPU times: total: 1min 46s\n",
      "Wall time: 1min 49s\n"
     ]
    }
   ],
   "source": [
    "%%time\n",
    "\n",
    "from sklearn.ensemble import RandomForestClassifier\n",
    "from imblearn.over_sampling import SMOTE\n",
    "from imblearn.pipeline import Pipeline\n",
    "from sklearn.metrics import confusion_matrix, precision_score, recall_score, f1_score, accuracy_score, roc_auc_score\n",
    "\n",
    "\n",
    "\n",
    "rf_clf = RandomForestClassifier(criterion='gini', bootstrap=True, random_state=100)\n",
    "smote_sampler = SMOTE(random_state=9)\n",
    "pipeline = Pipeline(steps = [['smote', smote_sampler],\n",
    "                             ['classifier', rf_clf]])\n",
    "pipeline.fit(X_train, y_train)\n",
    "y_pred = pipeline.predict(X_test)\n",
    "\n",
    "\n",
    "print(f\"Recall: { round(recall_score(y_test, y_pred)*100, 2) }\")\n",
    "print(f\"Precision: { round(precision_score(y_test, y_pred)*100, 2) }\")\n",
    "print(f\"F1-Score: { round(f1_score(y_test, y_pred)*100, 4) }\")\n",
    "print(f\"Accuracy score: { round(accuracy_score(y_test, y_pred)*100, 2) }\")\n",
    "print(f\"AUC Score: { round(roc_auc_score(y_test, y_pred)*100, 2) }\")"
   ]
  },
  {
   "cell_type": "markdown",
   "id": "8c2564aa",
   "metadata": {},
   "source": [
    "### RandomClassifier"
   ]
  },
  {
   "cell_type": "code",
   "execution_count": 52,
   "id": "d6ae50a3",
   "metadata": {},
   "outputs": [
    {
     "name": "stdout",
     "output_type": "stream",
     "text": [
      "CPU times: total: 37.8 s\n",
      "Wall time: 38.2 s\n"
     ]
    }
   ],
   "source": [
    "%%time\n",
    "rf = RandomForestClassifier()\n",
    "model_rf = rf.fit(X_train, y_train)"
   ]
  },
  {
   "cell_type": "code",
   "execution_count": 53,
   "id": "1c126bf9",
   "metadata": {},
   "outputs": [
    {
     "data": {
      "text/plain": [
       "0.9999169695739617"
      ]
     },
     "execution_count": 53,
     "metadata": {},
     "output_type": "execute_result"
    }
   ],
   "source": [
    "accuracy_score(rf.predict(X_train), y_train)"
   ]
  },
  {
   "cell_type": "code",
   "execution_count": 54,
   "id": "ee0e780a",
   "metadata": {},
   "outputs": [
    {
     "name": "stdout",
     "output_type": "stream",
     "text": [
      "CPU times: total: 891 ms\n",
      "Wall time: 1.01 s\n"
     ]
    },
    {
     "data": {
      "text/plain": [
       "0.9441307797335695"
      ]
     },
     "execution_count": 54,
     "metadata": {},
     "output_type": "execute_result"
    }
   ],
   "source": [
    "%%time\n",
    "accuracy_score(rf.predict(X_test), y_test)"
   ]
  },
  {
   "cell_type": "code",
   "execution_count": 55,
   "id": "cfe03610",
   "metadata": {},
   "outputs": [],
   "source": [
    "rf_pred = rf.predict(df_test_fs)\n",
    "preds = pd.DataFrame(rf_pred, columns=['target'])\n",
    "sub_client_id = df_test_invoices_merge['client_id']\n",
    "\n",
    "submission = pd.DataFrame({\n",
    "        'client_id': sub_client_id,\n",
    "        'target': preds['target']})\n",
    "submission.to_csv('rf_submission.csv', index=False)"
   ]
  },
  {
   "cell_type": "markdown",
   "id": "5fe4d13e",
   "metadata": {},
   "source": [
    "### Logistic Regression"
   ]
  },
  {
   "cell_type": "code",
   "execution_count": 56,
   "id": "a409ae81",
   "metadata": {},
   "outputs": [],
   "source": [
    "from sklearn.linear_model import LogisticRegression\n",
    "logit = LogisticRegression()\n",
    "model_logit = logit.fit(X_train, y_train)"
   ]
  },
  {
   "cell_type": "code",
   "execution_count": 57,
   "id": "6a2225a9",
   "metadata": {},
   "outputs": [
    {
     "data": {
      "text/plain": [
       "0.9441020720704097"
      ]
     },
     "execution_count": 57,
     "metadata": {},
     "output_type": "execute_result"
    }
   ],
   "source": [
    "accuracy_score(model_logit.predict(X_train), y_train)"
   ]
  },
  {
   "cell_type": "code",
   "execution_count": 58,
   "id": "c9260522",
   "metadata": {},
   "outputs": [
    {
     "data": {
      "image/png": "[encoded data removed]",
      "text/plain": [
       "<Figure size 504x504 with 1 Axes>"
      ]
     },
     "metadata": {
      "needs_background": "light"
     },
     "output_type": "display_data"
    }
   ],
   "source": [
    "from sklearn.metrics import roc_curve, auc\n",
    "\n",
    "logistic_test_pred = model_logit.predict(X_test)\n",
    "\n",
    "logistic_fpr, logistic_tpr, threshold = roc_curve(y_test, logistic_test_pred)\n",
    "auc_logistic = auc(logistic_fpr, logistic_tpr)\n",
    "\n",
    "plt.figure(figsize=(7,7))\n",
    "plt.plot(logistic_fpr, logistic_tpr, marker='.', label='Logistic (auc = %0.3f)' % auc_logistic)\n",
    "plt.xlabel('False Positive Rate')\n",
    "plt.ylabel('True Positive Rate')\n",
    "\n",
    "plt.legend()\n",
    "plt.show()"
   ]
  },
  {
   "cell_type": "code",
   "execution_count": 59,
   "id": "0aaaf8b3",
   "metadata": {},
   "outputs": [
    {
     "data": {
      "text/plain": [
       "0.9441307797335695"
      ]
     },
     "execution_count": 59,
     "metadata": {},
     "output_type": "execute_result"
    }
   ],
   "source": [
    "accuracy_score(model_logit.predict(X_test),y_test)"
   ]
  },
  {
   "cell_type": "code",
   "execution_count": 60,
   "id": "75fc84c4",
   "metadata": {},
   "outputs": [],
   "source": [
    "logit_pred = model_logit.predict(df_test)\n",
    "preds = pd.DataFrame(logit_pred, columns=['target'])\n",
    "sub_client_id = df_test_invoices_merge['client_id']\n",
    "\n",
    "submission = pd.DataFrame({\n",
    "        'client_id': sub_client_id,\n",
    "        'target': preds['target']})\n",
    "submission.to_csv('logit_submission.csv', index=False)"
   ]
  },
  {
   "cell_type": "code",
   "execution_count": null,
   "id": "9f69c034",
   "metadata": {},
   "outputs": [],
   "source": []
  },
  {
   "cell_type": "markdown",
   "id": "9b7c31e6",
   "metadata": {},
   "source": [
    "### Decisison Tree Classifier"
   ]
  },
  {
   "cell_type": "code",
   "execution_count": 61,
   "id": "2a3222d6",
   "metadata": {},
   "outputs": [],
   "source": [
    "from sklearn.tree import DecisionTreeClassifier\n",
    "dtc = DecisionTreeClassifier()\n",
    "dtc_model = dtc.fit(X_train, y_train)"
   ]
  },
  {
   "cell_type": "code",
   "execution_count": 62,
   "id": "389c53fd",
   "metadata": {},
   "outputs": [
    {
     "data": {
      "text/plain": [
       "0.9999907743971068"
      ]
     },
     "execution_count": 62,
     "metadata": {},
     "output_type": "execute_result"
    }
   ],
   "source": [
    "accuracy_score(dtc_model.predict(X_train), y_train)"
   ]
  },
  {
   "cell_type": "code",
   "execution_count": 63,
   "id": "58811961",
   "metadata": {},
   "outputs": [
    {
     "data": {
      "text/plain": [
       "0.748440901878298"
      ]
     },
     "execution_count": 63,
     "metadata": {},
     "output_type": "execute_result"
    }
   ],
   "source": [
    "accuracy_score(dtc_model.predict(X_test), y_test)"
   ]
  },
  {
   "cell_type": "code",
   "execution_count": 64,
   "id": "bef1f5df",
   "metadata": {},
   "outputs": [],
   "source": [
    "dtc_pred = dtc_model.predict(df_test_fs)\n",
    "preds = pd.DataFrame(dtc_pred, columns=['target'])\n",
    "sub_client_id = df_test_invoices_merge['client_id']\n",
    "\n",
    "submission = pd.DataFrame({\n",
    "        'client_id': sub_client_id,\n",
    "        'target': preds['target']})\n",
    "submission.to_csv('dtc_submission.csv', index=False)"
   ]
  },
  {
   "cell_type": "markdown",
   "id": "37177f0a",
   "metadata": {},
   "source": [
    "### Gaussian Naive Bayes"
   ]
  },
  {
   "cell_type": "code",
   "execution_count": 65,
   "id": "d1697092",
   "metadata": {},
   "outputs": [
    {
     "data": {
      "text/plain": [
       "0.4977028248796059"
      ]
     },
     "execution_count": 65,
     "metadata": {},
     "output_type": "execute_result"
    }
   ],
   "source": [
    "from sklearn.naive_bayes import GaussianNB\n",
    "gnb = GaussianNB()\n",
    "gnb_model = gnb.fit(X_train, y_train)\n",
    "accuracy_score(gnb_model.predict(X_train), y_train)"
   ]
  },
  {
   "cell_type": "code",
   "execution_count": 66,
   "id": "06d5cfe6",
   "metadata": {},
   "outputs": [
    {
     "data": {
      "text/plain": [
       "0.6372559873058047"
      ]
     },
     "execution_count": 66,
     "metadata": {},
     "output_type": "execute_result"
    }
   ],
   "source": [
    "accuracy_score(gnb_model.predict(X_test), y_test)"
   ]
  },
  {
   "cell_type": "code",
   "execution_count": 67,
   "id": "ae9ff0d5",
   "metadata": {},
   "outputs": [],
   "source": [
    "gnb_pred = gnb_model.predict(df_test_fs)\n",
    "preds = pd.DataFrame(gnb_pred, columns=['target'])\n",
    "sub_client_id = df_test_invoices_merge['client_id']\n",
    "\n",
    "submission = pd.DataFrame({\n",
    "        'client_id': sub_client_id,\n",
    "        'target': preds['target']})\n",
    "submission.to_csv('gnb_submission.csv', index=False)"
   ]
  },
  {
   "cell_type": "markdown",
   "id": "f2e95164",
   "metadata": {},
   "source": [
    "### XGBoost Classifier"
   ]
  },
  {
   "cell_type": "code",
   "execution_count": 68,
   "id": "e0edea77",
   "metadata": {},
   "outputs": [
    {
     "name": "stdout",
     "output_type": "stream",
     "text": [
      "Requirement already satisfied: xgboost in c:\\users\\user\\anaconda3\\lib\\site-packages (1.7.6)\n",
      "Requirement already satisfied: scipy in c:\\users\\user\\anaconda3\\lib\\site-packages (from xgboost) (1.7.3)\n",
      "Requirement already satisfied: numpy in c:\\users\\user\\anaconda3\\lib\\site-packages (from xgboost) (1.21.5)\n"
     ]
    }
   ],
   "source": [
    "!pip install xgboost\n"
   ]
  },
  {
   "cell_type": "code",
   "execution_count": 69,
   "id": "c0c0e887",
   "metadata": {},
   "outputs": [
    {
     "data": {
      "text/plain": [
       "0.9486687455025186"
      ]
     },
     "execution_count": 69,
     "metadata": {},
     "output_type": "execute_result"
    }
   ],
   "source": [
    "from xgboost import XGBClassifier\n",
    "xgb = XGBClassifier()\n",
    "xgb_model = xgb.fit(X_train, y_train)\n",
    "accuracy_score(xgb_model.predict(X_train), y_train)"
   ]
  },
  {
   "cell_type": "code",
   "execution_count": 70,
   "id": "95dc9be4",
   "metadata": {},
   "outputs": [
    {
     "data": {
      "text/plain": [
       "0.939001439167497"
      ]
     },
     "execution_count": 70,
     "metadata": {},
     "output_type": "execute_result"
    }
   ],
   "source": [
    "accuracy_score(xgb_model.predict(X_test), y_test)"
   ]
  },
  {
   "cell_type": "code",
   "execution_count": 71,
   "id": "fb6a4db6",
   "metadata": {},
   "outputs": [],
   "source": [
    "xgb_pred = xgb_model.predict(df_test)\n",
    "preds = pd.DataFrame(xgb_pred, columns=['target'])\n",
    "sub_client_id = df_test_invoices_merge['client_id']\n",
    "\n",
    "submission = pd.DataFrame({\n",
    "        'client_id': sub_client_id,\n",
    "        'target': preds['target']})\n",
    "submission.to_csv('xgb_submission.csv', index=False)"
   ]
  },
  {
   "cell_type": "code",
   "execution_count": null,
   "id": "c0f551b6",
   "metadata": {},
   "outputs": [],
   "source": []
  },
  {
   "cell_type": "markdown",
   "id": "a4fdd082",
   "metadata": {},
   "source": [
    "### Gradient Boosting Classifier"
   ]
  },
  {
   "cell_type": "code",
   "execution_count": 72,
   "id": "3a17cc7b",
   "metadata": {},
   "outputs": [
    {
     "data": {
      "text/plain": [
       "0.9442865841282728"
      ]
     },
     "execution_count": 72,
     "metadata": {},
     "output_type": "execute_result"
    }
   ],
   "source": [
    "from sklearn.ensemble import GradientBoostingClassifier\n",
    "gbc = GradientBoostingClassifier()\n",
    "gbc_model = gbc.fit(X_train, y_train)\n",
    "accuracy_score(gbc_model.predict(X_train), y_train)"
   ]
  },
  {
   "cell_type": "code",
   "execution_count": 73,
   "id": "a051ad3e",
   "metadata": {},
   "outputs": [
    {
     "data": {
      "text/plain": [
       "0.9430237278128344"
      ]
     },
     "execution_count": 73,
     "metadata": {},
     "output_type": "execute_result"
    }
   ],
   "source": [
    "accuracy_score(gbc_model.predict(X_test), y_test)"
   ]
  },
  {
   "cell_type": "code",
   "execution_count": 74,
   "id": "dce920d6",
   "metadata": {},
   "outputs": [],
   "source": [
    "gbc_pred = gbc_model.predict(df_test)\n",
    "preds = pd.DataFrame(gbc_pred, columns=['target'])\n",
    "sub_client_id = df_test_invoices_merge['client_id']\n",
    "\n",
    "submission = pd.DataFrame({\n",
    "        'client_id': sub_client_id,\n",
    "        'target': preds['target']})\n",
    "submission.to_csv('gbc_submission.csv', index=False)"
   ]
  },
  {
   "cell_type": "code",
   "execution_count": null,
   "id": "b853c167",
   "metadata": {},
   "outputs": [],
   "source": []
  },
  {
   "cell_type": "code",
   "execution_count": null,
   "id": "68d5d06e",
   "metadata": {},
   "outputs": [],
   "source": []
  },
  {
   "cell_type": "code",
   "execution_count": null,
   "id": "d06e6568",
   "metadata": {},
   "outputs": [],
   "source": []
  },
  {
   "cell_type": "code",
   "execution_count": null,
   "id": "5cd9fd81",
   "metadata": {},
   "outputs": [],
   "source": []
  },
  {
   "cell_type": "code",
   "execution_count": null,
   "id": "1ea4c0f9",
   "metadata": {},
   "outputs": [],
   "source": []
  },
  {
   "cell_type": "markdown",
   "id": "e512ee12",
   "metadata": {},
   "source": [
    "### Lightgbm Classifier"
   ]
  },
  {
   "cell_type": "code",
   "execution_count": 75,
   "id": "369a6929",
   "metadata": {},
   "outputs": [
    {
     "name": "stdout",
     "output_type": "stream",
     "text": [
      "[LightGBM] [Warning] Unknown parameter: num_iterationss\n",
      "[LightGBM] [Warning] Unknown parameter: num_iterationss\n",
      "[LightGBM] [Info] Number of positive: 6053, number of negative: 102341\n",
      "[LightGBM] [Warning] Auto-choosing col-wise multi-threading, the overhead of testing was 0.022821 seconds.\n",
      "You can set `force_col_wise=true` to remove the overhead.\n",
      "[LightGBM] [Info] Total Bins 2831\n",
      "[LightGBM] [Info] Number of data points in the train set: 108394, number of used features: 14\n",
      "[LightGBM] [Info] [binary:BoostFromScore]: pavg=0.055843 -> initscore=-2.827756\n",
      "[LightGBM] [Info] Start training from score -2.827756\n"
     ]
    },
    {
     "data": {
      "text/plain": [
       "LGBMClassifier(num_iterationss=500)"
      ]
     },
     "execution_count": 75,
     "metadata": {},
     "output_type": "execute_result"
    }
   ],
   "source": [
    "from lightgbm import LGBMClassifier\n",
    "\n",
    "model = LGBMClassifier(boosting_type='gbdt', num_iterationss=500)\n",
    "model.fit(X_train, y_train)"
   ]
  },
  {
   "cell_type": "code",
   "execution_count": 76,
   "id": "149007a4",
   "metadata": {},
   "outputs": [
    {
     "name": "stdout",
     "output_type": "stream",
     "text": [
      "[LightGBM] [Warning] Unknown parameter: num_iterationss\n"
     ]
    },
    {
     "data": {
      "text/html": [
       "<div>\n",
       "<style scoped>\n",
       "    .dataframe tbody tr th:only-of-type {\n",
       "        vertical-align: middle;\n",
       "    }\n",
       "\n",
       "    .dataframe tbody tr th {\n",
       "        vertical-align: top;\n",
       "    }\n",
       "\n",
       "    .dataframe thead th {\n",
       "        text-align: right;\n",
       "    }\n",
       "</style>\n",
       "<table border=\"1\" class=\"dataframe\">\n",
       "  <thead>\n",
       "    <tr style=\"text-align: right;\">\n",
       "      <th></th>\n",
       "      <th>target</th>\n",
       "    </tr>\n",
       "  </thead>\n",
       "  <tbody>\n",
       "    <tr>\n",
       "      <th>0</th>\n",
       "      <td>0.0</td>\n",
       "    </tr>\n",
       "    <tr>\n",
       "      <th>1</th>\n",
       "      <td>0.0</td>\n",
       "    </tr>\n",
       "    <tr>\n",
       "      <th>2</th>\n",
       "      <td>0.0</td>\n",
       "    </tr>\n",
       "    <tr>\n",
       "      <th>3</th>\n",
       "      <td>0.0</td>\n",
       "    </tr>\n",
       "    <tr>\n",
       "      <th>4</th>\n",
       "      <td>0.0</td>\n",
       "    </tr>\n",
       "  </tbody>\n",
       "</table>\n",
       "</div>"
      ],
      "text/plain": [
       "   target\n",
       "0     0.0\n",
       "1     0.0\n",
       "2     0.0\n",
       "3     0.0\n",
       "4     0.0"
      ]
     },
     "execution_count": 76,
     "metadata": {},
     "output_type": "execute_result"
    }
   ],
   "source": [
    "preds = model.predict(df_test)\n",
    "preds = pd.DataFrame(preds, columns=['target'])\n",
    "preds.head()"
   ]
  },
  {
   "cell_type": "code",
   "execution_count": 77,
   "id": "4427d189",
   "metadata": {},
   "outputs": [
    {
     "data": {
      "text/html": [
       "<div>\n",
       "<style scoped>\n",
       "    .dataframe tbody tr th:only-of-type {\n",
       "        vertical-align: middle;\n",
       "    }\n",
       "\n",
       "    .dataframe tbody tr th {\n",
       "        vertical-align: top;\n",
       "    }\n",
       "\n",
       "    .dataframe thead th {\n",
       "        text-align: right;\n",
       "    }\n",
       "</style>\n",
       "<table border=\"1\" class=\"dataframe\">\n",
       "  <thead>\n",
       "    <tr style=\"text-align: right;\">\n",
       "      <th></th>\n",
       "      <th>client_id</th>\n",
       "      <th>target</th>\n",
       "    </tr>\n",
       "  </thead>\n",
       "  <tbody>\n",
       "    <tr>\n",
       "      <th>0</th>\n",
       "      <td>test_Client_0</td>\n",
       "      <td>0.0</td>\n",
       "    </tr>\n",
       "    <tr>\n",
       "      <th>1</th>\n",
       "      <td>test_Client_1</td>\n",
       "      <td>0.0</td>\n",
       "    </tr>\n",
       "    <tr>\n",
       "      <th>2</th>\n",
       "      <td>test_Client_10</td>\n",
       "      <td>0.0</td>\n",
       "    </tr>\n",
       "    <tr>\n",
       "      <th>3</th>\n",
       "      <td>test_Client_100</td>\n",
       "      <td>0.0</td>\n",
       "    </tr>\n",
       "    <tr>\n",
       "      <th>4</th>\n",
       "      <td>test_Client_1000</td>\n",
       "      <td>0.0</td>\n",
       "    </tr>\n",
       "  </tbody>\n",
       "</table>\n",
       "</div>"
      ],
      "text/plain": [
       "          client_id  target\n",
       "0     test_Client_0     0.0\n",
       "1     test_Client_1     0.0\n",
       "2    test_Client_10     0.0\n",
       "3   test_Client_100     0.0\n",
       "4  test_Client_1000     0.0"
      ]
     },
     "execution_count": 77,
     "metadata": {},
     "output_type": "execute_result"
    }
   ],
   "source": [
    "sub_client_id = df_test_invoices_merge['client_id']\n",
    "\n",
    "submission = pd.DataFrame(\n",
    "    {\n",
    "        'client_id': sub_client_id,\n",
    "        'target': preds['target']\n",
    "    }\n",
    ")\n",
    "\n",
    "submission.head()"
   ]
  },
  {
   "cell_type": "code",
   "execution_count": 78,
   "id": "48e57854",
   "metadata": {},
   "outputs": [],
   "source": [
    "submission.to_csv('lgb_submission1.csv', index=False)"
   ]
  },
  {
   "cell_type": "code",
   "execution_count": null,
   "id": "5b4d3b77",
   "metadata": {},
   "outputs": [],
   "source": []
  },
  {
   "cell_type": "code",
   "execution_count": null,
   "id": "dbc0b539",
   "metadata": {},
   "outputs": [],
   "source": []
  },
  {
   "cell_type": "code",
   "execution_count": null,
   "id": "38531eb2",
   "metadata": {},
   "outputs": [],
   "source": []
  },
  {
   "cell_type": "code",
   "execution_count": null,
   "id": "2fe40040",
   "metadata": {},
   "outputs": [],
   "source": []
  },
  {
   "cell_type": "code",
   "execution_count": null,
   "id": "bfd47595",
   "metadata": {},
   "outputs": [],
   "source": []
  },
  {
   "cell_type": "code",
   "execution_count": null,
   "id": "334f9e1c",
   "metadata": {},
   "outputs": [],
   "source": []
  },
  {
   "cell_type": "code",
   "execution_count": null,
   "id": "11ee11b9",
   "metadata": {},
   "outputs": [],
   "source": []
  },
  {
   "cell_type": "code",
   "execution_count": null,
   "id": "656e48e2",
   "metadata": {},
   "outputs": [],
   "source": []
  }
 ],
 "metadata": {
  "kernelspec": {
   "display_name": "Python 3 (ipykernel)",
   "language": "python",
   "name": "python3"
  },
  "language_info": {
   "codemirror_mode": {
    "name": "ipython",
    "version": 3
   },
   "file_extension": ".py",
   "mimetype": "text/x-python",
   "name": "python",
   "nbconvert_exporter": "python",
   "pygments_lexer": "ipython3",
   "version": "3.9.12"
  }
 },
 "nbformat": 4,
 "nbformat_minor": 5
}
